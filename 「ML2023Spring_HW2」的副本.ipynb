{
  "cells": [
    {
      "cell_type": "markdown",
      "metadata": {
        "id": "OYlaRwNu7ojq"
      },
      "source": [
        "# **Homework 2: Phoneme Classification**\n"
      ]
    },
    {
      "cell_type": "markdown",
      "source": [
        "Objectives:\n",
        "* Solve a classification problem with deep neural networks (DNNs).\n",
        "* Understand recursive neural networks (RNNs).\n",
        "\n",
        "If you have any questions, please contact the TAs via TA hours, NTU COOL, or email to mlta-2023-spring@googlegroups.com"
      ],
      "metadata": {
        "id": "A7DRC5V7_8A5"
      }
    },
    {
      "cell_type": "markdown",
      "metadata": {
        "id": "KVUGfWTo7_Oj"
      },
      "source": [
        "# Download Data\n",
        "Download data from google drive, then unzip it.\n",
        "\n",
        "You should have\n",
        "- `libriphone/train_split.txt`: training metadata\n",
        "- `libriphone/train_labels`: training labels\n",
        "- `libriphone/test_split.txt`: testing metadata\n",
        "- `libriphone/feat/train/*.pt`: training feature\n",
        "- `libriphone/feat/test/*.pt`:  testing feature\n",
        "\n",
        "after running the following block.\n",
        "\n",
        "> **Notes: if the google drive link is dead, you can download the data directly from [Kaggle](https://www.kaggle.com/c/ml2023spring-hw2/data) and upload it to the workspace.**\n"
      ]
    },
    {
      "cell_type": "code",
      "execution_count": null,
      "metadata": {
        "id": "OzkiMEcC3Foq",
        "outputId": "6f71350c-d2d8-4f87-b2ed-a627d776ce5c",
        "colab": {
          "base_uri": "https://localhost:8080/"
        }
      },
      "outputs": [
        {
          "output_type": "stream",
          "name": "stdout",
          "text": [
            "Looking in indexes: https://pypi.org/simple, https://us-python.pkg.dev/colab-wheels/public/simple/\n",
            "Requirement already satisfied: gdown in /usr/local/lib/python3.9/dist-packages (4.4.0)\n",
            "Collecting gdown\n",
            "  Downloading gdown-4.6.4-py3-none-any.whl (14 kB)\n",
            "Requirement already satisfied: six in /usr/local/lib/python3.9/dist-packages (from gdown) (1.15.0)\n",
            "Requirement already satisfied: beautifulsoup4 in /usr/local/lib/python3.9/dist-packages (from gdown) (4.6.3)\n",
            "Requirement already satisfied: requests[socks] in /usr/local/lib/python3.9/dist-packages (from gdown) (2.25.1)\n",
            "Requirement already satisfied: filelock in /usr/local/lib/python3.9/dist-packages (from gdown) (3.9.0)\n",
            "Requirement already satisfied: tqdm in /usr/local/lib/python3.9/dist-packages (from gdown) (4.65.0)\n",
            "Requirement already satisfied: certifi>=2017.4.17 in /usr/local/lib/python3.9/dist-packages (from requests[socks]->gdown) (2022.12.7)\n",
            "Requirement already satisfied: chardet<5,>=3.0.2 in /usr/local/lib/python3.9/dist-packages (from requests[socks]->gdown) (4.0.0)\n",
            "Requirement already satisfied: urllib3<1.27,>=1.21.1 in /usr/local/lib/python3.9/dist-packages (from requests[socks]->gdown) (1.26.14)\n",
            "Requirement already satisfied: idna<3,>=2.5 in /usr/local/lib/python3.9/dist-packages (from requests[socks]->gdown) (2.10)\n",
            "Requirement already satisfied: PySocks!=1.5.7,>=1.5.6 in /usr/local/lib/python3.9/dist-packages (from requests[socks]->gdown) (1.7.1)\n",
            "Installing collected packages: gdown\n",
            "  Attempting uninstall: gdown\n",
            "    Found existing installation: gdown 4.4.0\n",
            "    Uninstalling gdown-4.4.0:\n",
            "      Successfully uninstalled gdown-4.4.0\n",
            "Successfully installed gdown-4.6.4\n",
            "/usr/local/lib/python3.9/dist-packages/gdown/cli.py:121: FutureWarning: Option `--id` was deprecated in version 4.3.1 and will be removed in 5.0. You don't need to pass it anymore to use a file ID.\n",
            "  warnings.warn(\n",
            "Downloading...\n",
            "From: https://drive.google.com/uc?id=1qzCRnywKh30mTbWUEjXuNT2isOCAPdO1\n",
            "To: /content/libriphone.zip\n",
            "100% 384M/384M [00:02<00:00, 142MB/s]\n",
            "feat  test_split.txt  train_labels.txt\ttrain_split.txt\n"
          ]
        }
      ],
      "source": [
        "!pip install --upgrade gdown\n",
        "\n",
        "# Main link\n",
        "# !gdown --id '1N1eVIDe9hKM5uiNRGmifBlwSDGiVXPJe' --output libriphone.zip\n",
        "!gdown --id '1qzCRnywKh30mTbWUEjXuNT2isOCAPdO1' --output libriphone.zip\n",
        "\n",
        "!unzip -q libriphone.zip\n",
        "!ls libriphone"
      ]
    },
    {
      "cell_type": "markdown",
      "source": [
        "# Some Utility Functions\n",
        "**Fixes random number generator seeds for reproducibility.**"
      ],
      "metadata": {
        "id": "pADUiYODJE1O"
      }
    },
    {
      "cell_type": "code",
      "source": [
        "import numpy as np\n",
        "import torch\n",
        "import random\n",
        "\n",
        "def same_seeds(seed):\n",
        "    random.seed(seed) \n",
        "    np.random.seed(seed)  \n",
        "    torch.manual_seed(seed)\n",
        "    if torch.cuda.is_available():\n",
        "        torch.cuda.manual_seed(seed)\n",
        "        torch.cuda.manual_seed_all(seed) \n",
        "    torch.backends.cudnn.benchmark = False\n",
        "    torch.backends.cudnn.deterministic = True"
      ],
      "metadata": {
        "id": "BsZKgBZQJjaE"
      },
      "execution_count": null,
      "outputs": []
    },
    {
      "cell_type": "markdown",
      "metadata": {
        "id": "_L_4anls8Drv"
      },
      "source": [
        "**Helper functions to pre-process the training data from raw MFCC features of each utterance.**\n",
        "\n",
        "A phoneme may span several frames and is dependent to past and future frames. \\\n",
        "Hence we concatenate neighboring phonemes for training to achieve higher accuracy. The **concat_feat** function concatenates past and future k frames (total 2k+1 = n frames), and we predict the center frame.\n",
        "\n",
        "Feel free to modify the data preprocess functions, but **do not drop any frame** (if you modify the functions, remember to check that the number of frames are the same as mentioned in the slides)"
      ]
    },
    {
      "cell_type": "code",
      "execution_count": null,
      "metadata": {
        "id": "IJjLT8em-y9G"
      },
      "outputs": [],
      "source": [
        "import os\n",
        "import torch\n",
        "from tqdm import tqdm\n",
        "\n",
        "def load_feat(path):\n",
        "    feat = torch.load(path)\n",
        "    return feat\n",
        "\n",
        "def shift(x, n):\n",
        "    if n < 0:\n",
        "        left = x[0].repeat(-n, 1)\n",
        "        right = x[:n]\n",
        "    elif n > 0:\n",
        "        right = x[-1].repeat(n, 1)\n",
        "        left = x[n:]\n",
        "    else:\n",
        "        return x\n",
        "\n",
        "    return torch.cat((left, right), dim=0)\n",
        "\n",
        "def concat_feat(x, concat_n):\n",
        "    assert concat_n % 2 == 1 # n must be odd\n",
        "    if concat_n < 2:\n",
        "        return x\n",
        "    seq_len, feature_dim = x.size(0), x.size(1)\n",
        "    x = x.repeat(1, concat_n) \n",
        "    x = x.view(seq_len, concat_n, feature_dim).permute(1, 0, 2) # concat_n, seq_len, feature_dim\n",
        "    mid = (concat_n // 2)\n",
        "    for r_idx in range(1, mid+1):\n",
        "        x[mid + r_idx, :] = shift(x[mid + r_idx], r_idx)\n",
        "        x[mid - r_idx, :] = shift(x[mid - r_idx], -r_idx)\n",
        "\n",
        "    return x.permute(1, 0, 2).view(seq_len, concat_n * feature_dim)\n",
        "\n",
        "def preprocess_data(split, feat_dir, phone_path, concat_nframes, train_ratio=0.8, random_seed=1213):\n",
        "    class_num = 41 # NOTE: pre-computed, should not need change\n",
        "\n",
        "    if split == 'train' or split == 'val':\n",
        "        mode = 'train'\n",
        "    elif split == 'test':\n",
        "        mode = 'test'\n",
        "    else:\n",
        "        raise ValueError('Invalid \\'split\\' argument for dataset: PhoneDataset!')\n",
        "\n",
        "    label_dict = {}\n",
        "    if mode == 'train':\n",
        "        for line in open(os.path.join(phone_path, f'{mode}_labels.txt')).readlines():\n",
        "            line = line.strip('\\n').split(' ')\n",
        "            label_dict[line[0]] = [int(p) for p in line[1:]]\n",
        "        \n",
        "        # split training and validation data\n",
        "        usage_list = open(os.path.join(phone_path, 'train_split.txt')).readlines()\n",
        "        random.seed(random_seed)\n",
        "        random.shuffle(usage_list)\n",
        "        train_len = int(len(usage_list) * train_ratio)\n",
        "        usage_list = usage_list[:train_len] if split == 'train' else usage_list[train_len:]\n",
        "\n",
        "    elif mode == 'test':\n",
        "        usage_list = open(os.path.join(phone_path, 'test_split.txt')).readlines()\n",
        "\n",
        "    usage_list = [line.strip('\\n') for line in usage_list]\n",
        "    print('[Dataset] - # phone classes: ' + str(class_num) + ', number of utterances for ' + split + ': ' + str(len(usage_list)))\n",
        "\n",
        "    max_len = 3000000\n",
        "    X = torch.empty(max_len, 39 * concat_nframes)\n",
        "    if mode == 'train':\n",
        "        y = torch.empty(max_len, dtype=torch.long)\n",
        "\n",
        "    idx = 0\n",
        "    for i, fname in tqdm(enumerate(usage_list)):\n",
        "        feat = load_feat(os.path.join(feat_dir, mode, f'{fname}.pt'))\n",
        "        cur_len = len(feat)\n",
        "        feat = concat_feat(feat, concat_nframes)\n",
        "        if mode == 'train':\n",
        "          label = torch.LongTensor(label_dict[fname])\n",
        "\n",
        "        X[idx: idx + cur_len, :] = feat\n",
        "        if mode == 'train':\n",
        "          y[idx: idx + cur_len] = label\n",
        "\n",
        "        idx += cur_len\n",
        "\n",
        "    X = X[:idx, :]\n",
        "    if mode == 'train':\n",
        "      y = y[:idx]\n",
        "\n",
        "    print(f'[INFO] {split} set')\n",
        "    print(X.shape)\n",
        "    if mode == 'train':\n",
        "      print(y.shape)\n",
        "      return X, y\n",
        "    else:\n",
        "      return X\n"
      ]
    },
    {
      "cell_type": "markdown",
      "metadata": {
        "id": "us5XW_x6udZQ"
      },
      "source": [
        "# Dataset"
      ]
    },
    {
      "cell_type": "code",
      "execution_count": null,
      "metadata": {
        "id": "Fjf5EcmJtf4e"
      },
      "outputs": [],
      "source": [
        "import torch\n",
        "from torch.utils.data import Dataset\n",
        "\n",
        "class LibriDataset(Dataset):\n",
        "    def __init__(self, X, y=None):\n",
        "        self.data = X\n",
        "        if y is not None:\n",
        "            self.label = torch.LongTensor(y)\n",
        "        else:\n",
        "            self.label = None\n",
        "\n",
        "    def __getitem__(self, idx):\n",
        "        if self.label is not None:\n",
        "            return self.data[idx], self.label[idx]\n",
        "        else:\n",
        "            return self.data[idx]\n",
        "\n",
        "    def __len__(self):\n",
        "        return len(self.data)\n"
      ]
    },
    {
      "cell_type": "markdown",
      "metadata": {
        "id": "IRqKNvNZwe3V"
      },
      "source": [
        "# Model\n",
        "Feel free to modify the structure of the model."
      ]
    },
    {
      "cell_type": "code",
      "execution_count": null,
      "metadata": {
        "id": "Bg-GRd7ywdrL"
      },
      "outputs": [],
      "source": [
        "import torch.nn as nn\n",
        "\n",
        "class BasicBlock(nn.Module):\n",
        "    def __init__(self, input_dim, output_dim):\n",
        "        super(BasicBlock, self).__init__()\n",
        "\n",
        "        # TODO: apply batch normalization and dropout for strong baseline.\n",
        "        # Reference: https://pytorch.org/docs/stable/generated/torch.nn.BatchNorm1d.html (batch normalization)\n",
        "        #       https://pytorch.org/docs/stable/generated/torch.nn.Dropout.html (dropout)\n",
        "        self.block = nn.Sequential(\n",
        "            nn.Linear(input_dim, output_dim),\n",
        "            nn.ReLU(),\n",
        "            nn.BatchNorm1d(output_dim),\n",
        "            nn.Dropout(p=0.25, inplace=False),\n",
        "        )\n",
        "\n",
        "    def forward(self, x):\n",
        "        x = self.block(x)\n",
        "        return x\n",
        "\n",
        "\n",
        "class Classifier(nn.Module):\n",
        "    def __init__(self, input_dim, output_dim=41, hidden_layers=1, hidden_dim=256):\n",
        "        super(Classifier, self).__init__()\n",
        "\n",
        "        self.fc = nn.Sequential(\n",
        "            BasicBlock(input_dim, hidden_dim),\n",
        "            *[BasicBlock(hidden_dim, hidden_dim) for _ in range(hidden_layers)],\n",
        "            nn.Linear(hidden_dim, output_dim)\n",
        "        )\n",
        "\n",
        "    def forward(self, x):\n",
        "        x = self.fc(x)\n",
        "        return x"
      ]
    },
    {
      "cell_type": "markdown",
      "source": [
        "# Hyper-parameters"
      ],
      "metadata": {
        "id": "TlIq8JeqvvHC"
      }
    },
    {
      "cell_type": "code",
      "source": [
        "# data prarameters\n",
        "# TODO: change the value of \"concat_nframes\" for medium baseline\n",
        "concat_nframes = 21   # the number of frames to concat with, n must be odd (total 2k+1 = n frames)\n",
        "train_ratio = 0.9   # the ratio of data used for training, the rest will be used for validation\n",
        "\n",
        "# training parameters\n",
        "seed = 526969          # random seed\n",
        "batch_size = 1024        # batch size\n",
        "num_epoch = 300         # the number of training epoch\n",
        "learning_rate = 1e-4      # learning rate\n",
        "model_path = './model.ckpt'  # the path where the checkpoint will be saved\n",
        "\n",
        "# model parameters\n",
        "# TODO: change the value of \"hidden_layers\" or \"hidden_dim\" for medium baseline\n",
        "input_dim = 39 * concat_nframes  # the input dim of the model, you should not change the value\n",
        "hidden_layers = 12          # the number of hidden layers\n",
        "hidden_dim = 1024           # the hidden dim"
      ],
      "metadata": {
        "id": "iIHn79Iav1ri"
      },
      "execution_count": null,
      "outputs": []
    },
    {
      "cell_type": "markdown",
      "source": [
        "# Dataloader"
      ],
      "metadata": {
        "id": "IIUFRgG5yoDn"
      }
    },
    {
      "cell_type": "code",
      "source": [
        "from torch.utils.data import DataLoader\n",
        "import gc\n",
        "\n",
        "same_seeds(seed)\n",
        "device = 'cuda' if torch.cuda.is_available() else 'cpu'\n",
        "print(f'DEVICE: {device}')\n",
        "\n",
        "# preprocess data\n",
        "train_X, train_y = preprocess_data(split='train', feat_dir='./libriphone/feat', phone_path='./libriphone', concat_nframes=concat_nframes, train_ratio=train_ratio, random_seed=seed)\n",
        "val_X, val_y = preprocess_data(split='val', feat_dir='./libriphone/feat', phone_path='./libriphone', concat_nframes=concat_nframes, train_ratio=train_ratio, random_seed=seed)\n",
        "\n",
        "# get dataset\n",
        "train_set = LibriDataset(train_X, train_y)\n",
        "val_set = LibriDataset(val_X, val_y)\n",
        "\n",
        "# remove raw feature to save memory\n",
        "del train_X, train_y, val_X, val_y\n",
        "gc.collect()\n",
        "\n",
        "# get dataloader\n",
        "train_loader = DataLoader(train_set, batch_size=batch_size, shuffle=True)\n",
        "val_loader = DataLoader(val_set, batch_size=batch_size, shuffle=False)"
      ],
      "metadata": {
        "id": "c1zI3v5jyrDn",
        "outputId": "6df741d7-e7be-45fc-efd3-b9c97ebeba22",
        "colab": {
          "base_uri": "https://localhost:8080/"
        }
      },
      "execution_count": null,
      "outputs": [
        {
          "output_type": "stream",
          "name": "stdout",
          "text": [
            "DEVICE: cuda\n",
            "[Dataset] - # phone classes: 41, number of utterances for train: 3086\n"
          ]
        },
        {
          "output_type": "stream",
          "name": "stderr",
          "text": [
            "3086it [00:13, 224.28it/s]\n"
          ]
        },
        {
          "output_type": "stream",
          "name": "stdout",
          "text": [
            "[INFO] train set\n",
            "torch.Size([1909338, 819])\n",
            "torch.Size([1909338])\n",
            "[Dataset] - # phone classes: 41, number of utterances for val: 343\n"
          ]
        },
        {
          "output_type": "stream",
          "name": "stderr",
          "text": [
            "343it [00:01, 333.76it/s]"
          ]
        },
        {
          "output_type": "stream",
          "name": "stdout",
          "text": [
            "[INFO] val set\n",
            "torch.Size([207456, 819])\n",
            "torch.Size([207456])\n"
          ]
        },
        {
          "output_type": "stream",
          "name": "stderr",
          "text": [
            "\n"
          ]
        }
      ]
    },
    {
      "cell_type": "markdown",
      "source": [
        "# Training"
      ],
      "metadata": {
        "id": "pwWH1KIqzxEr"
      }
    },
    {
      "cell_type": "code",
      "execution_count": null,
      "metadata": {
        "id": "CdMWsBs7zzNs",
        "outputId": "8223f1d5-d1e0-4549-89da-7133cc0e4872",
        "colab": {
          "base_uri": "https://localhost:8080/"
        }
      },
      "outputs": [
        {
          "output_type": "stream",
          "name": "stderr",
          "text": [
            "100%|██████████| 1865/1865 [01:16<00:00, 24.33it/s]\n",
            "100%|██████████| 203/203 [00:02<00:00, 69.52it/s]\n"
          ]
        },
        {
          "output_type": "stream",
          "name": "stdout",
          "text": [
            "[001/300] Train Acc: 0.52470 Loss: 1.62229 | Val Acc: 0.61717 loss: 1.27678\n",
            "saving model with acc 0.61717\n"
          ]
        },
        {
          "output_type": "stream",
          "name": "stderr",
          "text": [
            "100%|██████████| 1865/1865 [01:13<00:00, 25.40it/s]\n",
            "100%|██████████| 203/203 [00:02<00:00, 70.93it/s]\n"
          ]
        },
        {
          "output_type": "stream",
          "name": "stdout",
          "text": [
            "[002/300] Train Acc: 0.61523 Loss: 1.28355 | Val Acc: 0.67269 loss: 1.07245\n",
            "saving model with acc 0.67269\n"
          ]
        },
        {
          "output_type": "stream",
          "name": "stderr",
          "text": [
            "100%|██████████| 1865/1865 [01:13<00:00, 25.33it/s]\n",
            "100%|██████████| 203/203 [00:03<00:00, 61.55it/s]\n"
          ]
        },
        {
          "output_type": "stream",
          "name": "stdout",
          "text": [
            "[003/300] Train Acc: 0.65071 Loss: 1.15611 | Val Acc: 0.68426 loss: 1.02923\n",
            "saving model with acc 0.68426\n"
          ]
        },
        {
          "output_type": "stream",
          "name": "stderr",
          "text": [
            "100%|██████████| 1865/1865 [01:13<00:00, 25.44it/s]\n",
            "100%|██████████| 203/203 [00:02<00:00, 70.69it/s]\n"
          ]
        },
        {
          "output_type": "stream",
          "name": "stdout",
          "text": [
            "[004/300] Train Acc: 0.67358 Loss: 1.07388 | Val Acc: 0.70528 loss: 0.95781\n",
            "saving model with acc 0.70528\n"
          ]
        },
        {
          "output_type": "stream",
          "name": "stderr",
          "text": [
            "100%|██████████| 1865/1865 [01:13<00:00, 25.35it/s]\n",
            "100%|██████████| 203/203 [00:02<00:00, 70.43it/s]\n"
          ]
        },
        {
          "output_type": "stream",
          "name": "stdout",
          "text": [
            "[005/300] Train Acc: 0.68928 Loss: 1.01589 | Val Acc: 0.70889 loss: 0.93848\n",
            "saving model with acc 0.70889\n"
          ]
        },
        {
          "output_type": "stream",
          "name": "stderr",
          "text": [
            "100%|██████████| 1865/1865 [01:13<00:00, 25.46it/s]\n",
            "100%|██████████| 203/203 [00:02<00:00, 69.79it/s]\n"
          ]
        },
        {
          "output_type": "stream",
          "name": "stdout",
          "text": [
            "[006/300] Train Acc: 0.70130 Loss: 0.97244 | Val Acc: 0.72407 loss: 0.89400\n",
            "saving model with acc 0.72407\n"
          ]
        },
        {
          "output_type": "stream",
          "name": "stderr",
          "text": [
            "100%|██████████| 1865/1865 [01:13<00:00, 25.55it/s]\n",
            "100%|██████████| 203/203 [00:03<00:00, 61.50it/s]\n"
          ]
        },
        {
          "output_type": "stream",
          "name": "stdout",
          "text": [
            "[007/300] Train Acc: 0.71081 Loss: 0.93791 | Val Acc: 0.72583 loss: 0.88572\n",
            "saving model with acc 0.72583\n"
          ]
        },
        {
          "output_type": "stream",
          "name": "stderr",
          "text": [
            "100%|██████████| 1865/1865 [01:13<00:00, 25.45it/s]\n",
            "100%|██████████| 203/203 [00:02<00:00, 71.46it/s]\n"
          ]
        },
        {
          "output_type": "stream",
          "name": "stdout",
          "text": [
            "[008/300] Train Acc: 0.71840 Loss: 0.91063 | Val Acc: 0.73275 loss: 0.86284\n",
            "saving model with acc 0.73275\n"
          ]
        },
        {
          "output_type": "stream",
          "name": "stderr",
          "text": [
            "100%|██████████| 1865/1865 [01:13<00:00, 25.55it/s]\n",
            "100%|██████████| 203/203 [00:02<00:00, 69.86it/s]\n"
          ]
        },
        {
          "output_type": "stream",
          "name": "stdout",
          "text": [
            "[009/300] Train Acc: 0.72509 Loss: 0.88659 | Val Acc: 0.73301 loss: 0.85728\n",
            "saving model with acc 0.73301\n"
          ]
        },
        {
          "output_type": "stream",
          "name": "stderr",
          "text": [
            "100%|██████████| 1865/1865 [01:12<00:00, 25.57it/s]\n",
            "100%|██████████| 203/203 [00:02<00:00, 70.85it/s]\n"
          ]
        },
        {
          "output_type": "stream",
          "name": "stdout",
          "text": [
            "[010/300] Train Acc: 0.73043 Loss: 0.86741 | Val Acc: 0.73821 loss: 0.84536\n",
            "saving model with acc 0.73821\n"
          ]
        },
        {
          "output_type": "stream",
          "name": "stderr",
          "text": [
            "100%|██████████| 1865/1865 [01:13<00:00, 25.42it/s]\n",
            "100%|██████████| 203/203 [00:03<00:00, 62.32it/s]\n"
          ]
        },
        {
          "output_type": "stream",
          "name": "stdout",
          "text": [
            "[011/300] Train Acc: 0.73523 Loss: 0.84933 | Val Acc: 0.73880 loss: 0.84371\n",
            "saving model with acc 0.73880\n"
          ]
        },
        {
          "output_type": "stream",
          "name": "stderr",
          "text": [
            "100%|██████████| 1865/1865 [01:13<00:00, 25.51it/s]\n",
            "100%|██████████| 203/203 [00:02<00:00, 70.61it/s]\n"
          ]
        },
        {
          "output_type": "stream",
          "name": "stdout",
          "text": [
            "[012/300] Train Acc: 0.73892 Loss: 0.83569 | Val Acc: 0.74148 loss: 0.83328\n",
            "saving model with acc 0.74148\n"
          ]
        },
        {
          "output_type": "stream",
          "name": "stderr",
          "text": [
            "100%|██████████| 1865/1865 [01:12<00:00, 25.58it/s]\n",
            "100%|██████████| 203/203 [00:03<00:00, 62.15it/s]\n"
          ]
        },
        {
          "output_type": "stream",
          "name": "stdout",
          "text": [
            "[013/300] Train Acc: 0.74315 Loss: 0.82206 | Val Acc: 0.74336 loss: 0.82816\n",
            "saving model with acc 0.74336\n"
          ]
        },
        {
          "output_type": "stream",
          "name": "stderr",
          "text": [
            "100%|██████████| 1865/1865 [01:12<00:00, 25.58it/s]\n",
            "100%|██████████| 203/203 [00:02<00:00, 71.91it/s]\n"
          ]
        },
        {
          "output_type": "stream",
          "name": "stdout",
          "text": [
            "[014/300] Train Acc: 0.74719 Loss: 0.80873 | Val Acc: 0.74520 loss: 0.82736\n",
            "saving model with acc 0.74520\n"
          ]
        },
        {
          "output_type": "stream",
          "name": "stderr",
          "text": [
            "100%|██████████| 1865/1865 [01:12<00:00, 25.62it/s]\n",
            "100%|██████████| 203/203 [00:03<00:00, 61.50it/s]\n"
          ]
        },
        {
          "output_type": "stream",
          "name": "stdout",
          "text": [
            "[015/300] Train Acc: 0.74954 Loss: 0.79862 | Val Acc: 0.74533 loss: 0.82670\n",
            "saving model with acc 0.74533\n"
          ]
        },
        {
          "output_type": "stream",
          "name": "stderr",
          "text": [
            "100%|██████████| 1865/1865 [01:12<00:00, 25.59it/s]\n",
            "100%|██████████| 203/203 [00:02<00:00, 71.84it/s]\n"
          ]
        },
        {
          "output_type": "stream",
          "name": "stdout",
          "text": [
            "[016/300] Train Acc: 0.75277 Loss: 0.78756 | Val Acc: 0.74719 loss: 0.82188\n",
            "saving model with acc 0.74719\n"
          ]
        },
        {
          "output_type": "stream",
          "name": "stderr",
          "text": [
            "100%|██████████| 1865/1865 [01:12<00:00, 25.61it/s]\n",
            "100%|██████████| 203/203 [00:02<00:00, 71.88it/s]\n"
          ]
        },
        {
          "output_type": "stream",
          "name": "stdout",
          "text": [
            "[017/300] Train Acc: 0.75494 Loss: 0.78010 | Val Acc: 0.74684 loss: 0.82391\n"
          ]
        },
        {
          "output_type": "stream",
          "name": "stderr",
          "text": [
            "100%|██████████| 1865/1865 [01:12<00:00, 25.57it/s]\n",
            "100%|██████████| 203/203 [00:02<00:00, 72.00it/s]\n"
          ]
        },
        {
          "output_type": "stream",
          "name": "stdout",
          "text": [
            "[018/300] Train Acc: 0.75795 Loss: 0.77021 | Val Acc: 0.74914 loss: 0.81759\n",
            "saving model with acc 0.74914\n"
          ]
        },
        {
          "output_type": "stream",
          "name": "stderr",
          "text": [
            "100%|██████████| 1865/1865 [01:13<00:00, 25.50it/s]\n",
            "100%|██████████| 203/203 [00:03<00:00, 63.98it/s]\n"
          ]
        },
        {
          "output_type": "stream",
          "name": "stdout",
          "text": [
            "[019/300] Train Acc: 0.75924 Loss: 0.76262 | Val Acc: 0.74772 loss: 0.82557\n"
          ]
        },
        {
          "output_type": "stream",
          "name": "stderr",
          "text": [
            "100%|██████████| 1865/1865 [01:13<00:00, 25.54it/s]\n",
            "100%|██████████| 203/203 [00:02<00:00, 69.01it/s]\n"
          ]
        },
        {
          "output_type": "stream",
          "name": "stdout",
          "text": [
            "[020/300] Train Acc: 0.76198 Loss: 0.75576 | Val Acc: 0.75080 loss: 0.81526\n",
            "saving model with acc 0.75080\n"
          ]
        },
        {
          "output_type": "stream",
          "name": "stderr",
          "text": [
            "100%|██████████| 1865/1865 [01:12<00:00, 25.64it/s]\n",
            "100%|██████████| 203/203 [00:03<00:00, 63.69it/s]\n"
          ]
        },
        {
          "output_type": "stream",
          "name": "stdout",
          "text": [
            "[021/300] Train Acc: 0.76370 Loss: 0.74842 | Val Acc: 0.74945 loss: 0.81941\n"
          ]
        },
        {
          "output_type": "stream",
          "name": "stderr",
          "text": [
            "100%|██████████| 1865/1865 [01:12<00:00, 25.62it/s]\n",
            "100%|██████████| 203/203 [00:02<00:00, 71.65it/s]\n"
          ]
        },
        {
          "output_type": "stream",
          "name": "stdout",
          "text": [
            "[022/300] Train Acc: 0.76577 Loss: 0.74102 | Val Acc: 0.75102 loss: 0.81620\n",
            "saving model with acc 0.75102\n"
          ]
        },
        {
          "output_type": "stream",
          "name": "stderr",
          "text": [
            "100%|██████████| 1865/1865 [01:12<00:00, 25.66it/s]\n",
            "100%|██████████| 203/203 [00:03<00:00, 64.98it/s]\n"
          ]
        },
        {
          "output_type": "stream",
          "name": "stdout",
          "text": [
            "[023/300] Train Acc: 0.76698 Loss: 0.73603 | Val Acc: 0.75257 loss: 0.81707\n",
            "saving model with acc 0.75257\n"
          ]
        },
        {
          "output_type": "stream",
          "name": "stderr",
          "text": [
            "100%|██████████| 1865/1865 [01:12<00:00, 25.59it/s]\n",
            "100%|██████████| 203/203 [00:03<00:00, 64.46it/s]\n"
          ]
        },
        {
          "output_type": "stream",
          "name": "stdout",
          "text": [
            "[024/300] Train Acc: 0.76892 Loss: 0.73035 | Val Acc: 0.75261 loss: 0.81038\n",
            "saving model with acc 0.75261\n"
          ]
        },
        {
          "output_type": "stream",
          "name": "stderr",
          "text": [
            "100%|██████████| 1865/1865 [01:12<00:00, 25.63it/s]\n",
            "100%|██████████| 203/203 [00:02<00:00, 71.16it/s]\n"
          ]
        },
        {
          "output_type": "stream",
          "name": "stdout",
          "text": [
            "[025/300] Train Acc: 0.77047 Loss: 0.72434 | Val Acc: 0.75241 loss: 0.81228\n"
          ]
        },
        {
          "output_type": "stream",
          "name": "stderr",
          "text": [
            "100%|██████████| 1865/1865 [01:12<00:00, 25.63it/s]\n",
            "100%|██████████| 203/203 [00:02<00:00, 70.20it/s]\n"
          ]
        },
        {
          "output_type": "stream",
          "name": "stdout",
          "text": [
            "[026/300] Train Acc: 0.77160 Loss: 0.71989 | Val Acc: 0.75323 loss: 0.80993\n",
            "saving model with acc 0.75323\n"
          ]
        },
        {
          "output_type": "stream",
          "name": "stderr",
          "text": [
            "100%|██████████| 1865/1865 [01:12<00:00, 25.59it/s]\n",
            "100%|██████████| 203/203 [00:02<00:00, 69.90it/s]\n"
          ]
        },
        {
          "output_type": "stream",
          "name": "stdout",
          "text": [
            "[027/300] Train Acc: 0.77300 Loss: 0.71429 | Val Acc: 0.75271 loss: 0.81332\n"
          ]
        },
        {
          "output_type": "stream",
          "name": "stderr",
          "text": [
            "100%|██████████| 1865/1865 [01:13<00:00, 25.49it/s]\n",
            "100%|██████████| 203/203 [00:03<00:00, 62.42it/s]\n"
          ]
        },
        {
          "output_type": "stream",
          "name": "stdout",
          "text": [
            "[028/300] Train Acc: 0.77426 Loss: 0.71039 | Val Acc: 0.75438 loss: 0.80852\n",
            "saving model with acc 0.75438\n"
          ]
        },
        {
          "output_type": "stream",
          "name": "stderr",
          "text": [
            "100%|██████████| 1865/1865 [01:13<00:00, 25.42it/s]\n",
            "100%|██████████| 203/203 [00:02<00:00, 71.74it/s]\n"
          ]
        },
        {
          "output_type": "stream",
          "name": "stdout",
          "text": [
            "[029/300] Train Acc: 0.77530 Loss: 0.70533 | Val Acc: 0.75506 loss: 0.81002\n",
            "saving model with acc 0.75506\n"
          ]
        },
        {
          "output_type": "stream",
          "name": "stderr",
          "text": [
            "100%|██████████| 1865/1865 [01:13<00:00, 25.34it/s]\n",
            "100%|██████████| 203/203 [00:02<00:00, 69.76it/s]\n"
          ]
        },
        {
          "output_type": "stream",
          "name": "stdout",
          "text": [
            "[030/300] Train Acc: 0.77673 Loss: 0.70139 | Val Acc: 0.75583 loss: 0.80545\n",
            "saving model with acc 0.75583\n"
          ]
        },
        {
          "output_type": "stream",
          "name": "stderr",
          "text": [
            "100%|██████████| 1865/1865 [01:13<00:00, 25.40it/s]\n",
            "100%|██████████| 203/203 [00:03<00:00, 58.85it/s]\n"
          ]
        },
        {
          "output_type": "stream",
          "name": "stdout",
          "text": [
            "[031/300] Train Acc: 0.77773 Loss: 0.69849 | Val Acc: 0.75387 loss: 0.80820\n"
          ]
        },
        {
          "output_type": "stream",
          "name": "stderr",
          "text": [
            "100%|██████████| 1865/1865 [01:14<00:00, 25.03it/s]\n",
            "100%|██████████| 203/203 [00:02<00:00, 70.31it/s]\n"
          ]
        },
        {
          "output_type": "stream",
          "name": "stdout",
          "text": [
            "[032/300] Train Acc: 0.77889 Loss: 0.69455 | Val Acc: 0.75700 loss: 0.80435\n",
            "saving model with acc 0.75700\n"
          ]
        },
        {
          "output_type": "stream",
          "name": "stderr",
          "text": [
            "100%|██████████| 1865/1865 [01:13<00:00, 25.30it/s]\n",
            "100%|██████████| 203/203 [00:02<00:00, 70.74it/s]\n"
          ]
        },
        {
          "output_type": "stream",
          "name": "stdout",
          "text": [
            "[033/300] Train Acc: 0.78009 Loss: 0.68995 | Val Acc: 0.75483 loss: 0.81526\n"
          ]
        },
        {
          "output_type": "stream",
          "name": "stderr",
          "text": [
            "100%|██████████| 1865/1865 [01:13<00:00, 25.41it/s]\n",
            "100%|██████████| 203/203 [00:03<00:00, 62.92it/s]\n"
          ]
        },
        {
          "output_type": "stream",
          "name": "stdout",
          "text": [
            "[034/300] Train Acc: 0.78068 Loss: 0.68636 | Val Acc: 0.75600 loss: 0.81440\n"
          ]
        },
        {
          "output_type": "stream",
          "name": "stderr",
          "text": [
            "100%|██████████| 1865/1865 [01:13<00:00, 25.46it/s]\n",
            "100%|██████████| 203/203 [00:02<00:00, 69.71it/s]\n"
          ]
        },
        {
          "output_type": "stream",
          "name": "stdout",
          "text": [
            "[035/300] Train Acc: 0.78104 Loss: 0.68485 | Val Acc: 0.75595 loss: 0.80910\n"
          ]
        },
        {
          "output_type": "stream",
          "name": "stderr",
          "text": [
            "100%|██████████| 1865/1865 [01:12<00:00, 25.55it/s]\n",
            "100%|██████████| 203/203 [00:02<00:00, 70.26it/s]\n"
          ]
        },
        {
          "output_type": "stream",
          "name": "stdout",
          "text": [
            "[036/300] Train Acc: 0.78285 Loss: 0.68015 | Val Acc: 0.75557 loss: 0.81050\n"
          ]
        },
        {
          "output_type": "stream",
          "name": "stderr",
          "text": [
            "100%|██████████| 1865/1865 [01:13<00:00, 25.50it/s]\n",
            "100%|██████████| 203/203 [00:02<00:00, 71.46it/s]\n"
          ]
        },
        {
          "output_type": "stream",
          "name": "stdout",
          "text": [
            "[037/300] Train Acc: 0.78394 Loss: 0.67729 | Val Acc: 0.75490 loss: 0.81195\n"
          ]
        },
        {
          "output_type": "stream",
          "name": "stderr",
          "text": [
            "100%|██████████| 1865/1865 [01:12<00:00, 25.60it/s]\n",
            "100%|██████████| 203/203 [00:03<00:00, 64.61it/s]\n"
          ]
        },
        {
          "output_type": "stream",
          "name": "stdout",
          "text": [
            "[038/300] Train Acc: 0.78433 Loss: 0.67442 | Val Acc: 0.75713 loss: 0.80786\n",
            "saving model with acc 0.75713\n"
          ]
        },
        {
          "output_type": "stream",
          "name": "stderr",
          "text": [
            "100%|██████████| 1865/1865 [01:12<00:00, 25.63it/s]\n",
            "100%|██████████| 203/203 [00:02<00:00, 67.91it/s]\n"
          ]
        },
        {
          "output_type": "stream",
          "name": "stdout",
          "text": [
            "[039/300] Train Acc: 0.78515 Loss: 0.67199 | Val Acc: 0.75639 loss: 0.80918\n"
          ]
        },
        {
          "output_type": "stream",
          "name": "stderr",
          "text": [
            "100%|██████████| 1865/1865 [01:13<00:00, 25.54it/s]\n",
            "100%|██████████| 203/203 [00:02<00:00, 71.49it/s]\n"
          ]
        },
        {
          "output_type": "stream",
          "name": "stdout",
          "text": [
            "[040/300] Train Acc: 0.78582 Loss: 0.66840 | Val Acc: 0.75739 loss: 0.80593\n",
            "saving model with acc 0.75739\n"
          ]
        },
        {
          "output_type": "stream",
          "name": "stderr",
          "text": [
            "100%|██████████| 1865/1865 [01:12<00:00, 25.61it/s]\n",
            "100%|██████████| 203/203 [00:02<00:00, 69.73it/s]\n"
          ]
        },
        {
          "output_type": "stream",
          "name": "stdout",
          "text": [
            "[041/300] Train Acc: 0.78702 Loss: 0.66539 | Val Acc: 0.75843 loss: 0.81131\n",
            "saving model with acc 0.75843\n"
          ]
        },
        {
          "output_type": "stream",
          "name": "stderr",
          "text": [
            "100%|██████████| 1865/1865 [01:12<00:00, 25.63it/s]\n",
            "100%|██████████| 203/203 [00:03<00:00, 64.96it/s]\n"
          ]
        },
        {
          "output_type": "stream",
          "name": "stdout",
          "text": [
            "[042/300] Train Acc: 0.78700 Loss: 0.66453 | Val Acc: 0.75817 loss: 0.80508\n"
          ]
        },
        {
          "output_type": "stream",
          "name": "stderr",
          "text": [
            "100%|██████████| 1865/1865 [01:12<00:00, 25.56it/s]\n",
            "100%|██████████| 203/203 [00:03<00:00, 64.56it/s]\n"
          ]
        },
        {
          "output_type": "stream",
          "name": "stdout",
          "text": [
            "[043/300] Train Acc: 0.78825 Loss: 0.66075 | Val Acc: 0.75688 loss: 0.80791\n"
          ]
        },
        {
          "output_type": "stream",
          "name": "stderr",
          "text": [
            "100%|██████████| 1865/1865 [01:12<00:00, 25.65it/s]\n",
            "100%|██████████| 203/203 [00:02<00:00, 70.44it/s]\n"
          ]
        },
        {
          "output_type": "stream",
          "name": "stdout",
          "text": [
            "[044/300] Train Acc: 0.78895 Loss: 0.65891 | Val Acc: 0.75880 loss: 0.80882\n",
            "saving model with acc 0.75880\n"
          ]
        },
        {
          "output_type": "stream",
          "name": "stderr",
          "text": [
            "100%|██████████| 1865/1865 [01:12<00:00, 25.55it/s]\n",
            "100%|██████████| 203/203 [00:02<00:00, 71.84it/s]\n"
          ]
        },
        {
          "output_type": "stream",
          "name": "stdout",
          "text": [
            "[045/300] Train Acc: 0.78940 Loss: 0.65675 | Val Acc: 0.75601 loss: 0.81705\n"
          ]
        },
        {
          "output_type": "stream",
          "name": "stderr",
          "text": [
            "100%|██████████| 1865/1865 [01:13<00:00, 25.52it/s]\n",
            "100%|██████████| 203/203 [00:02<00:00, 67.75it/s]\n"
          ]
        },
        {
          "output_type": "stream",
          "name": "stdout",
          "text": [
            "[046/300] Train Acc: 0.79048 Loss: 0.65435 | Val Acc: 0.75802 loss: 0.80311\n"
          ]
        },
        {
          "output_type": "stream",
          "name": "stderr",
          "text": [
            "100%|██████████| 1865/1865 [01:13<00:00, 25.46it/s]\n",
            "100%|██████████| 203/203 [00:03<00:00, 66.47it/s]\n"
          ]
        },
        {
          "output_type": "stream",
          "name": "stdout",
          "text": [
            "[047/300] Train Acc: 0.79072 Loss: 0.65271 | Val Acc: 0.75907 loss: 0.80756\n",
            "saving model with acc 0.75907\n"
          ]
        },
        {
          "output_type": "stream",
          "name": "stderr",
          "text": [
            "100%|██████████| 1865/1865 [01:12<00:00, 25.66it/s]\n",
            "100%|██████████| 203/203 [00:02<00:00, 71.68it/s]\n"
          ]
        },
        {
          "output_type": "stream",
          "name": "stdout",
          "text": [
            "[048/300] Train Acc: 0.79115 Loss: 0.65052 | Val Acc: 0.75867 loss: 0.80232\n"
          ]
        },
        {
          "output_type": "stream",
          "name": "stderr",
          "text": [
            "100%|██████████| 1865/1865 [01:12<00:00, 25.61it/s]\n",
            "100%|██████████| 203/203 [00:02<00:00, 72.01it/s]\n"
          ]
        },
        {
          "output_type": "stream",
          "name": "stdout",
          "text": [
            "[049/300] Train Acc: 0.79205 Loss: 0.64758 | Val Acc: 0.75824 loss: 0.81023\n"
          ]
        },
        {
          "output_type": "stream",
          "name": "stderr",
          "text": [
            "100%|██████████| 1865/1865 [01:13<00:00, 25.52it/s]\n",
            "100%|██████████| 203/203 [00:02<00:00, 70.17it/s]\n"
          ]
        },
        {
          "output_type": "stream",
          "name": "stdout",
          "text": [
            "[050/300] Train Acc: 0.79284 Loss: 0.64553 | Val Acc: 0.75910 loss: 0.80307\n",
            "saving model with acc 0.75910\n"
          ]
        },
        {
          "output_type": "stream",
          "name": "stderr",
          "text": [
            "100%|██████████| 1865/1865 [01:12<00:00, 25.64it/s]\n",
            "100%|██████████| 203/203 [00:03<00:00, 62.42it/s]\n"
          ]
        },
        {
          "output_type": "stream",
          "name": "stdout",
          "text": [
            "[051/300] Train Acc: 0.79320 Loss: 0.64348 | Val Acc: 0.75836 loss: 0.82162\n"
          ]
        },
        {
          "output_type": "stream",
          "name": "stderr",
          "text": [
            "100%|██████████| 1865/1865 [01:13<00:00, 25.53it/s]\n",
            "100%|██████████| 203/203 [00:02<00:00, 72.10it/s]\n"
          ]
        },
        {
          "output_type": "stream",
          "name": "stdout",
          "text": [
            "[052/300] Train Acc: 0.79358 Loss: 0.64196 | Val Acc: 0.75940 loss: 0.80903\n",
            "saving model with acc 0.75940\n"
          ]
        },
        {
          "output_type": "stream",
          "name": "stderr",
          "text": [
            "100%|██████████| 1865/1865 [01:12<00:00, 25.63it/s]\n",
            "100%|██████████| 203/203 [00:02<00:00, 72.06it/s]\n"
          ]
        },
        {
          "output_type": "stream",
          "name": "stdout",
          "text": [
            "[053/300] Train Acc: 0.79415 Loss: 0.64039 | Val Acc: 0.75901 loss: 0.81212\n"
          ]
        },
        {
          "output_type": "stream",
          "name": "stderr",
          "text": [
            "100%|██████████| 1865/1865 [01:12<00:00, 25.55it/s]\n",
            "100%|██████████| 203/203 [00:02<00:00, 71.16it/s]\n"
          ]
        },
        {
          "output_type": "stream",
          "name": "stdout",
          "text": [
            "[054/300] Train Acc: 0.79458 Loss: 0.63832 | Val Acc: 0.76005 loss: 0.80360\n",
            "saving model with acc 0.76005\n"
          ]
        },
        {
          "output_type": "stream",
          "name": "stderr",
          "text": [
            "100%|██████████| 1865/1865 [01:12<00:00, 25.58it/s]\n",
            "100%|██████████| 203/203 [00:03<00:00, 61.61it/s]\n"
          ]
        },
        {
          "output_type": "stream",
          "name": "stdout",
          "text": [
            "[055/300] Train Acc: 0.79486 Loss: 0.63761 | Val Acc: 0.75990 loss: 0.80528\n"
          ]
        },
        {
          "output_type": "stream",
          "name": "stderr",
          "text": [
            "100%|██████████| 1865/1865 [01:13<00:00, 25.53it/s]\n",
            "100%|██████████| 203/203 [00:02<00:00, 71.99it/s]\n"
          ]
        },
        {
          "output_type": "stream",
          "name": "stdout",
          "text": [
            "[056/300] Train Acc: 0.79527 Loss: 0.63586 | Val Acc: 0.75952 loss: 0.80488\n"
          ]
        },
        {
          "output_type": "stream",
          "name": "stderr",
          "text": [
            "100%|██████████| 1865/1865 [01:12<00:00, 25.57it/s]\n",
            "100%|██████████| 203/203 [00:02<00:00, 70.29it/s]\n"
          ]
        },
        {
          "output_type": "stream",
          "name": "stdout",
          "text": [
            "[057/300] Train Acc: 0.79593 Loss: 0.63348 | Val Acc: 0.75799 loss: 0.81117\n"
          ]
        },
        {
          "output_type": "stream",
          "name": "stderr",
          "text": [
            "100%|██████████| 1865/1865 [01:12<00:00, 25.60it/s]\n",
            "100%|██████████| 203/203 [00:02<00:00, 69.70it/s]\n"
          ]
        },
        {
          "output_type": "stream",
          "name": "stdout",
          "text": [
            "[058/300] Train Acc: 0.79567 Loss: 0.63333 | Val Acc: 0.75952 loss: 0.81023\n"
          ]
        },
        {
          "output_type": "stream",
          "name": "stderr",
          "text": [
            "100%|██████████| 1865/1865 [01:13<00:00, 25.41it/s]\n",
            "100%|██████████| 203/203 [00:03<00:00, 60.48it/s]\n"
          ]
        },
        {
          "output_type": "stream",
          "name": "stdout",
          "text": [
            "[059/300] Train Acc: 0.79664 Loss: 0.63102 | Val Acc: 0.75825 loss: 0.81545\n"
          ]
        },
        {
          "output_type": "stream",
          "name": "stderr",
          "text": [
            "100%|██████████| 1865/1865 [01:13<00:00, 25.45it/s]\n",
            "100%|██████████| 203/203 [00:02<00:00, 72.23it/s]\n"
          ]
        },
        {
          "output_type": "stream",
          "name": "stdout",
          "text": [
            "[060/300] Train Acc: 0.79690 Loss: 0.62962 | Val Acc: 0.76040 loss: 0.80809\n",
            "saving model with acc 0.76040\n"
          ]
        },
        {
          "output_type": "stream",
          "name": "stderr",
          "text": [
            "100%|██████████| 1865/1865 [01:12<00:00, 25.57it/s]\n",
            "100%|██████████| 203/203 [00:02<00:00, 71.40it/s]\n"
          ]
        },
        {
          "output_type": "stream",
          "name": "stdout",
          "text": [
            "[061/300] Train Acc: 0.79746 Loss: 0.62895 | Val Acc: 0.75821 loss: 0.81107\n"
          ]
        },
        {
          "output_type": "stream",
          "name": "stderr",
          "text": [
            "100%|██████████| 1865/1865 [01:13<00:00, 25.50it/s]\n",
            "100%|██████████| 203/203 [00:02<00:00, 71.58it/s]\n"
          ]
        },
        {
          "output_type": "stream",
          "name": "stdout",
          "text": [
            "[062/300] Train Acc: 0.79773 Loss: 0.62788 | Val Acc: 0.75977 loss: 0.80991\n"
          ]
        },
        {
          "output_type": "stream",
          "name": "stderr",
          "text": [
            "100%|██████████| 1865/1865 [01:12<00:00, 25.60it/s]\n",
            "100%|██████████| 203/203 [00:03<00:00, 66.07it/s]\n"
          ]
        },
        {
          "output_type": "stream",
          "name": "stdout",
          "text": [
            "[063/300] Train Acc: 0.79824 Loss: 0.62568 | Val Acc: 0.76056 loss: 0.80698\n",
            "saving model with acc 0.76056\n"
          ]
        },
        {
          "output_type": "stream",
          "name": "stderr",
          "text": [
            "100%|██████████| 1865/1865 [01:13<00:00, 25.44it/s]\n",
            "100%|██████████| 203/203 [00:03<00:00, 54.71it/s]\n"
          ]
        },
        {
          "output_type": "stream",
          "name": "stdout",
          "text": [
            "[064/300] Train Acc: 0.79821 Loss: 0.62465 | Val Acc: 0.75924 loss: 0.80543\n"
          ]
        },
        {
          "output_type": "stream",
          "name": "stderr",
          "text": [
            "100%|██████████| 1865/1865 [01:13<00:00, 25.45it/s]\n",
            "100%|██████████| 203/203 [00:02<00:00, 70.27it/s]\n"
          ]
        },
        {
          "output_type": "stream",
          "name": "stdout",
          "text": [
            "[065/300] Train Acc: 0.79871 Loss: 0.62337 | Val Acc: 0.75896 loss: 0.80533\n"
          ]
        },
        {
          "output_type": "stream",
          "name": "stderr",
          "text": [
            "100%|██████████| 1865/1865 [01:13<00:00, 25.51it/s]\n",
            "100%|██████████| 203/203 [00:02<00:00, 71.59it/s]\n"
          ]
        },
        {
          "output_type": "stream",
          "name": "stdout",
          "text": [
            "[066/300] Train Acc: 0.79947 Loss: 0.62152 | Val Acc: 0.76038 loss: 0.80505\n"
          ]
        },
        {
          "output_type": "stream",
          "name": "stderr",
          "text": [
            "100%|██████████| 1865/1865 [01:13<00:00, 25.36it/s]\n",
            "100%|██████████| 203/203 [00:02<00:00, 71.39it/s]\n"
          ]
        },
        {
          "output_type": "stream",
          "name": "stdout",
          "text": [
            "[067/300] Train Acc: 0.79978 Loss: 0.62091 | Val Acc: 0.75959 loss: 0.80604\n"
          ]
        },
        {
          "output_type": "stream",
          "name": "stderr",
          "text": [
            "100%|██████████| 1865/1865 [01:13<00:00, 25.46it/s]\n",
            "100%|██████████| 203/203 [00:03<00:00, 61.69it/s]\n"
          ]
        },
        {
          "output_type": "stream",
          "name": "stdout",
          "text": [
            "[068/300] Train Acc: 0.80011 Loss: 0.61989 | Val Acc: 0.76134 loss: 0.80853\n",
            "saving model with acc 0.76134\n"
          ]
        },
        {
          "output_type": "stream",
          "name": "stderr",
          "text": [
            "100%|██████████| 1865/1865 [01:13<00:00, 25.36it/s]\n",
            "100%|██████████| 203/203 [00:02<00:00, 71.32it/s]\n"
          ]
        },
        {
          "output_type": "stream",
          "name": "stdout",
          "text": [
            "[069/300] Train Acc: 0.79996 Loss: 0.61890 | Val Acc: 0.75922 loss: 0.80889\n"
          ]
        },
        {
          "output_type": "stream",
          "name": "stderr",
          "text": [
            "100%|██████████| 1865/1865 [01:13<00:00, 25.45it/s]\n",
            "100%|██████████| 203/203 [00:02<00:00, 71.91it/s]\n"
          ]
        },
        {
          "output_type": "stream",
          "name": "stdout",
          "text": [
            "[070/300] Train Acc: 0.80072 Loss: 0.61700 | Val Acc: 0.76005 loss: 0.80684\n"
          ]
        },
        {
          "output_type": "stream",
          "name": "stderr",
          "text": [
            "100%|██████████| 1865/1865 [01:13<00:00, 25.37it/s]\n",
            "100%|██████████| 203/203 [00:02<00:00, 67.99it/s]\n"
          ]
        },
        {
          "output_type": "stream",
          "name": "stdout",
          "text": [
            "[071/300] Train Acc: 0.80050 Loss: 0.61692 | Val Acc: 0.75885 loss: 0.80750\n"
          ]
        },
        {
          "output_type": "stream",
          "name": "stderr",
          "text": [
            "100%|██████████| 1865/1865 [01:13<00:00, 25.41it/s]\n",
            "100%|██████████| 203/203 [00:03<00:00, 63.09it/s]\n"
          ]
        },
        {
          "output_type": "stream",
          "name": "stdout",
          "text": [
            "[072/300] Train Acc: 0.80099 Loss: 0.61530 | Val Acc: 0.75902 loss: 0.80796\n"
          ]
        },
        {
          "output_type": "stream",
          "name": "stderr",
          "text": [
            "100%|██████████| 1865/1865 [01:13<00:00, 25.46it/s]\n",
            "100%|██████████| 203/203 [00:02<00:00, 70.11it/s]\n"
          ]
        },
        {
          "output_type": "stream",
          "name": "stdout",
          "text": [
            "[073/300] Train Acc: 0.80150 Loss: 0.61348 | Val Acc: 0.76001 loss: 0.81247\n"
          ]
        },
        {
          "output_type": "stream",
          "name": "stderr",
          "text": [
            "100%|██████████| 1865/1865 [01:13<00:00, 25.31it/s]\n",
            "100%|██████████| 203/203 [00:02<00:00, 70.98it/s]\n"
          ]
        },
        {
          "output_type": "stream",
          "name": "stdout",
          "text": [
            "[074/300] Train Acc: 0.80136 Loss: 0.61398 | Val Acc: 0.76019 loss: 0.80970\n"
          ]
        },
        {
          "output_type": "stream",
          "name": "stderr",
          "text": [
            "100%|██████████| 1865/1865 [01:13<00:00, 25.44it/s]\n",
            "100%|██████████| 203/203 [00:03<00:00, 61.66it/s]\n"
          ]
        },
        {
          "output_type": "stream",
          "name": "stdout",
          "text": [
            "[075/300] Train Acc: 0.80207 Loss: 0.61161 | Val Acc: 0.76026 loss: 0.80691\n"
          ]
        },
        {
          "output_type": "stream",
          "name": "stderr",
          "text": [
            "100%|██████████| 1865/1865 [01:13<00:00, 25.31it/s]\n",
            "100%|██████████| 203/203 [00:02<00:00, 70.14it/s]\n"
          ]
        },
        {
          "output_type": "stream",
          "name": "stdout",
          "text": [
            "[076/300] Train Acc: 0.80236 Loss: 0.61066 | Val Acc: 0.76234 loss: 0.80064\n",
            "saving model with acc 0.76234\n"
          ]
        },
        {
          "output_type": "stream",
          "name": "stderr",
          "text": [
            "100%|██████████| 1865/1865 [01:13<00:00, 25.54it/s]\n",
            "100%|██████████| 203/203 [00:02<00:00, 68.65it/s]\n"
          ]
        },
        {
          "output_type": "stream",
          "name": "stdout",
          "text": [
            "[077/300] Train Acc: 0.80226 Loss: 0.61024 | Val Acc: 0.76123 loss: 0.80842\n"
          ]
        },
        {
          "output_type": "stream",
          "name": "stderr",
          "text": [
            "100%|██████████| 1865/1865 [01:13<00:00, 25.44it/s]\n",
            "100%|██████████| 203/203 [00:02<00:00, 71.07it/s]\n"
          ]
        },
        {
          "output_type": "stream",
          "name": "stdout",
          "text": [
            "[078/300] Train Acc: 0.80313 Loss: 0.60848 | Val Acc: 0.76156 loss: 0.80843\n"
          ]
        },
        {
          "output_type": "stream",
          "name": "stderr",
          "text": [
            "100%|██████████| 1865/1865 [01:14<00:00, 25.19it/s]\n",
            "100%|██████████| 203/203 [00:03<00:00, 63.50it/s]\n"
          ]
        },
        {
          "output_type": "stream",
          "name": "stdout",
          "text": [
            "[079/300] Train Acc: 0.80329 Loss: 0.60757 | Val Acc: 0.76088 loss: 0.80634\n"
          ]
        },
        {
          "output_type": "stream",
          "name": "stderr",
          "text": [
            "100%|██████████| 1865/1865 [01:13<00:00, 25.43it/s]\n",
            "100%|██████████| 203/203 [00:03<00:00, 67.25it/s]\n"
          ]
        },
        {
          "output_type": "stream",
          "name": "stdout",
          "text": [
            "[080/300] Train Acc: 0.80282 Loss: 0.60728 | Val Acc: 0.76135 loss: 0.80824\n"
          ]
        },
        {
          "output_type": "stream",
          "name": "stderr",
          "text": [
            "100%|██████████| 1865/1865 [01:13<00:00, 25.38it/s]\n",
            "100%|██████████| 203/203 [00:02<00:00, 69.88it/s]\n"
          ]
        },
        {
          "output_type": "stream",
          "name": "stdout",
          "text": [
            "[081/300] Train Acc: 0.80371 Loss: 0.60602 | Val Acc: 0.75892 loss: 0.81871\n"
          ]
        },
        {
          "output_type": "stream",
          "name": "stderr",
          "text": [
            "100%|██████████| 1865/1865 [01:13<00:00, 25.37it/s]\n",
            "100%|██████████| 203/203 [00:02<00:00, 71.48it/s]\n"
          ]
        },
        {
          "output_type": "stream",
          "name": "stdout",
          "text": [
            "[082/300] Train Acc: 0.80365 Loss: 0.60586 | Val Acc: 0.76045 loss: 0.80858\n"
          ]
        },
        {
          "output_type": "stream",
          "name": "stderr",
          "text": [
            "100%|██████████| 1865/1865 [01:13<00:00, 25.23it/s]\n",
            "100%|██████████| 203/203 [00:03<00:00, 67.10it/s]\n"
          ]
        },
        {
          "output_type": "stream",
          "name": "stdout",
          "text": [
            "[083/300] Train Acc: 0.80358 Loss: 0.60531 | Val Acc: 0.76261 loss: 0.79914\n",
            "saving model with acc 0.76261\n"
          ]
        },
        {
          "output_type": "stream",
          "name": "stderr",
          "text": [
            "100%|██████████| 1865/1865 [01:13<00:00, 25.41it/s]\n",
            "100%|██████████| 203/203 [00:02<00:00, 70.39it/s]\n"
          ]
        },
        {
          "output_type": "stream",
          "name": "stdout",
          "text": [
            "[084/300] Train Acc: 0.80387 Loss: 0.60435 | Val Acc: 0.76134 loss: 0.81720\n"
          ]
        },
        {
          "output_type": "stream",
          "name": "stderr",
          "text": [
            "100%|██████████| 1865/1865 [01:13<00:00, 25.48it/s]\n",
            "100%|██████████| 203/203 [00:02<00:00, 69.51it/s]\n"
          ]
        },
        {
          "output_type": "stream",
          "name": "stdout",
          "text": [
            "[085/300] Train Acc: 0.80420 Loss: 0.60284 | Val Acc: 0.76140 loss: 0.80943\n"
          ]
        },
        {
          "output_type": "stream",
          "name": "stderr",
          "text": [
            "100%|██████████| 1865/1865 [01:13<00:00, 25.46it/s]\n",
            "100%|██████████| 203/203 [00:02<00:00, 69.60it/s]\n"
          ]
        },
        {
          "output_type": "stream",
          "name": "stdout",
          "text": [
            "[086/300] Train Acc: 0.80474 Loss: 0.60259 | Val Acc: 0.75958 loss: 0.80939\n"
          ]
        },
        {
          "output_type": "stream",
          "name": "stderr",
          "text": [
            "100%|██████████| 1865/1865 [01:13<00:00, 25.42it/s]\n",
            "100%|██████████| 203/203 [00:03<00:00, 63.07it/s]\n"
          ]
        },
        {
          "output_type": "stream",
          "name": "stdout",
          "text": [
            "[087/300] Train Acc: 0.80457 Loss: 0.60183 | Val Acc: 0.76107 loss: 0.80845\n"
          ]
        },
        {
          "output_type": "stream",
          "name": "stderr",
          "text": [
            "100%|██████████| 1865/1865 [01:13<00:00, 25.32it/s]\n",
            "100%|██████████| 203/203 [00:02<00:00, 69.81it/s]\n"
          ]
        },
        {
          "output_type": "stream",
          "name": "stdout",
          "text": [
            "[088/300] Train Acc: 0.80480 Loss: 0.60086 | Val Acc: 0.76121 loss: 0.81156\n"
          ]
        },
        {
          "output_type": "stream",
          "name": "stderr",
          "text": [
            "100%|██████████| 1865/1865 [01:13<00:00, 25.38it/s]\n",
            "100%|██████████| 203/203 [00:02<00:00, 70.48it/s]\n"
          ]
        },
        {
          "output_type": "stream",
          "name": "stdout",
          "text": [
            "[089/300] Train Acc: 0.80544 Loss: 0.60010 | Val Acc: 0.75915 loss: 0.82485\n"
          ]
        },
        {
          "output_type": "stream",
          "name": "stderr",
          "text": [
            "100%|██████████| 1865/1865 [01:14<00:00, 25.11it/s]\n",
            "100%|██████████| 203/203 [00:02<00:00, 70.22it/s]\n"
          ]
        },
        {
          "output_type": "stream",
          "name": "stdout",
          "text": [
            "[090/300] Train Acc: 0.80520 Loss: 0.60076 | Val Acc: 0.76070 loss: 0.81474\n"
          ]
        },
        {
          "output_type": "stream",
          "name": "stderr",
          "text": [
            "100%|██████████| 1865/1865 [01:14<00:00, 24.95it/s]\n",
            "100%|██████████| 203/203 [00:03<00:00, 58.83it/s]\n"
          ]
        },
        {
          "output_type": "stream",
          "name": "stdout",
          "text": [
            "[091/300] Train Acc: 0.80594 Loss: 0.59816 | Val Acc: 0.75971 loss: 0.82191\n"
          ]
        },
        {
          "output_type": "stream",
          "name": "stderr",
          "text": [
            "100%|██████████| 1865/1865 [01:14<00:00, 24.95it/s]\n",
            "100%|██████████| 203/203 [00:03<00:00, 67.61it/s]\n"
          ]
        },
        {
          "output_type": "stream",
          "name": "stdout",
          "text": [
            "[092/300] Train Acc: 0.80602 Loss: 0.59817 | Val Acc: 0.76143 loss: 0.80986\n"
          ]
        },
        {
          "output_type": "stream",
          "name": "stderr",
          "text": [
            "100%|██████████| 1865/1865 [01:14<00:00, 24.88it/s]\n",
            "100%|██████████| 203/203 [00:03<00:00, 67.51it/s]\n"
          ]
        },
        {
          "output_type": "stream",
          "name": "stdout",
          "text": [
            "[093/300] Train Acc: 0.80598 Loss: 0.59699 | Val Acc: 0.76185 loss: 0.80840\n"
          ]
        },
        {
          "output_type": "stream",
          "name": "stderr",
          "text": [
            "100%|██████████| 1865/1865 [01:14<00:00, 25.16it/s]\n",
            "100%|██████████| 203/203 [00:02<00:00, 70.18it/s]\n"
          ]
        },
        {
          "output_type": "stream",
          "name": "stdout",
          "text": [
            "[094/300] Train Acc: 0.80616 Loss: 0.59702 | Val Acc: 0.76228 loss: 0.81503\n"
          ]
        },
        {
          "output_type": "stream",
          "name": "stderr",
          "text": [
            "100%|██████████| 1865/1865 [01:14<00:00, 25.07it/s]\n",
            "100%|██████████| 203/203 [00:03<00:00, 64.26it/s]\n"
          ]
        },
        {
          "output_type": "stream",
          "name": "stdout",
          "text": [
            "[095/300] Train Acc: 0.80624 Loss: 0.59581 | Val Acc: 0.75867 loss: 0.81990\n"
          ]
        },
        {
          "output_type": "stream",
          "name": "stderr",
          "text": [
            "100%|██████████| 1865/1865 [01:13<00:00, 25.26it/s]\n",
            "100%|██████████| 203/203 [00:02<00:00, 70.81it/s]\n"
          ]
        },
        {
          "output_type": "stream",
          "name": "stdout",
          "text": [
            "[096/300] Train Acc: 0.80644 Loss: 0.59557 | Val Acc: 0.76197 loss: 0.81161\n"
          ]
        },
        {
          "output_type": "stream",
          "name": "stderr",
          "text": [
            "100%|██████████| 1865/1865 [01:13<00:00, 25.27it/s]\n",
            "100%|██████████| 203/203 [00:02<00:00, 69.19it/s]\n"
          ]
        },
        {
          "output_type": "stream",
          "name": "stdout",
          "text": [
            "[097/300] Train Acc: 0.80673 Loss: 0.59451 | Val Acc: 0.76032 loss: 0.81288\n"
          ]
        },
        {
          "output_type": "stream",
          "name": "stderr",
          "text": [
            "100%|██████████| 1865/1865 [01:13<00:00, 25.31it/s]\n",
            "100%|██████████| 203/203 [00:03<00:00, 60.50it/s]\n"
          ]
        },
        {
          "output_type": "stream",
          "name": "stdout",
          "text": [
            "[098/300] Train Acc: 0.80720 Loss: 0.59311 | Val Acc: 0.76234 loss: 0.81248\n"
          ]
        },
        {
          "output_type": "stream",
          "name": "stderr",
          "text": [
            "100%|██████████| 1865/1865 [01:13<00:00, 25.26it/s]\n",
            "100%|██████████| 203/203 [00:02<00:00, 69.88it/s]\n"
          ]
        },
        {
          "output_type": "stream",
          "name": "stdout",
          "text": [
            "[099/300] Train Acc: 0.80698 Loss: 0.59319 | Val Acc: 0.76233 loss: 0.81255\n"
          ]
        },
        {
          "output_type": "stream",
          "name": "stderr",
          "text": [
            "100%|██████████| 1865/1865 [01:13<00:00, 25.31it/s]\n",
            "100%|██████████| 203/203 [00:02<00:00, 70.94it/s]\n"
          ]
        },
        {
          "output_type": "stream",
          "name": "stdout",
          "text": [
            "[100/300] Train Acc: 0.80717 Loss: 0.59273 | Val Acc: 0.76267 loss: 0.81347\n",
            "saving model with acc 0.76267\n"
          ]
        },
        {
          "output_type": "stream",
          "name": "stderr",
          "text": [
            "100%|██████████| 1865/1865 [01:13<00:00, 25.33it/s]\n",
            "100%|██████████| 203/203 [00:02<00:00, 70.63it/s]\n"
          ]
        },
        {
          "output_type": "stream",
          "name": "stdout",
          "text": [
            "[101/300] Train Acc: 0.80749 Loss: 0.59229 | Val Acc: 0.76312 loss: 0.81422\n",
            "saving model with acc 0.76312\n"
          ]
        },
        {
          "output_type": "stream",
          "name": "stderr",
          "text": [
            "100%|██████████| 1865/1865 [01:13<00:00, 25.34it/s]\n",
            "100%|██████████| 203/203 [00:03<00:00, 60.06it/s]\n"
          ]
        },
        {
          "output_type": "stream",
          "name": "stdout",
          "text": [
            "[102/300] Train Acc: 0.80804 Loss: 0.59052 | Val Acc: 0.76221 loss: 0.81369\n"
          ]
        },
        {
          "output_type": "stream",
          "name": "stderr",
          "text": [
            "100%|██████████| 1865/1865 [01:13<00:00, 25.36it/s]\n",
            "100%|██████████| 203/203 [00:02<00:00, 70.67it/s]\n"
          ]
        },
        {
          "output_type": "stream",
          "name": "stdout",
          "text": [
            "[103/300] Train Acc: 0.80767 Loss: 0.59122 | Val Acc: 0.76152 loss: 0.81881\n"
          ]
        },
        {
          "output_type": "stream",
          "name": "stderr",
          "text": [
            "100%|██████████| 1865/1865 [01:13<00:00, 25.30it/s]\n",
            "100%|██████████| 203/203 [00:02<00:00, 69.52it/s]\n"
          ]
        },
        {
          "output_type": "stream",
          "name": "stdout",
          "text": [
            "[104/300] Train Acc: 0.80789 Loss: 0.59032 | Val Acc: 0.75986 loss: 0.81599\n"
          ]
        },
        {
          "output_type": "stream",
          "name": "stderr",
          "text": [
            "100%|██████████| 1865/1865 [01:13<00:00, 25.30it/s]\n",
            "100%|██████████| 203/203 [00:03<00:00, 67.09it/s]\n"
          ]
        },
        {
          "output_type": "stream",
          "name": "stdout",
          "text": [
            "[105/300] Train Acc: 0.80813 Loss: 0.58983 | Val Acc: 0.76273 loss: 0.81113\n"
          ]
        },
        {
          "output_type": "stream",
          "name": "stderr",
          "text": [
            "100%|██████████| 1865/1865 [01:14<00:00, 25.17it/s]\n",
            "100%|██████████| 203/203 [00:03<00:00, 64.65it/s]\n"
          ]
        },
        {
          "output_type": "stream",
          "name": "stdout",
          "text": [
            "[106/300] Train Acc: 0.80796 Loss: 0.58935 | Val Acc: 0.76169 loss: 0.82014\n"
          ]
        },
        {
          "output_type": "stream",
          "name": "stderr",
          "text": [
            "100%|██████████| 1865/1865 [01:13<00:00, 25.31it/s]\n",
            "100%|██████████| 203/203 [00:02<00:00, 70.96it/s]\n"
          ]
        },
        {
          "output_type": "stream",
          "name": "stdout",
          "text": [
            "[107/300] Train Acc: 0.80834 Loss: 0.58926 | Val Acc: 0.76133 loss: 0.81191\n"
          ]
        },
        {
          "output_type": "stream",
          "name": "stderr",
          "text": [
            "100%|██████████| 1865/1865 [01:13<00:00, 25.34it/s]\n",
            "100%|██████████| 203/203 [00:02<00:00, 70.93it/s]\n"
          ]
        },
        {
          "output_type": "stream",
          "name": "stdout",
          "text": [
            "[108/300] Train Acc: 0.80882 Loss: 0.58775 | Val Acc: 0.76126 loss: 0.81649\n"
          ]
        },
        {
          "output_type": "stream",
          "name": "stderr",
          "text": [
            "100%|██████████| 1865/1865 [01:13<00:00, 25.24it/s]\n",
            "100%|██████████| 203/203 [00:03<00:00, 60.92it/s]\n"
          ]
        },
        {
          "output_type": "stream",
          "name": "stdout",
          "text": [
            "[109/300] Train Acc: 0.80897 Loss: 0.58695 | Val Acc: 0.76198 loss: 0.82075\n"
          ]
        },
        {
          "output_type": "stream",
          "name": "stderr",
          "text": [
            "100%|██████████| 1865/1865 [01:13<00:00, 25.34it/s]\n",
            "100%|██████████| 203/203 [00:02<00:00, 69.46it/s]\n"
          ]
        },
        {
          "output_type": "stream",
          "name": "stdout",
          "text": [
            "[110/300] Train Acc: 0.80892 Loss: 0.58692 | Val Acc: 0.76341 loss: 0.81210\n",
            "saving model with acc 0.76341\n"
          ]
        },
        {
          "output_type": "stream",
          "name": "stderr",
          "text": [
            "100%|██████████| 1865/1865 [01:13<00:00, 25.33it/s]\n",
            "100%|██████████| 203/203 [00:02<00:00, 69.72it/s]\n"
          ]
        },
        {
          "output_type": "stream",
          "name": "stdout",
          "text": [
            "[111/300] Train Acc: 0.80884 Loss: 0.58651 | Val Acc: 0.76123 loss: 0.81890\n"
          ]
        },
        {
          "output_type": "stream",
          "name": "stderr",
          "text": [
            "100%|██████████| 1865/1865 [01:13<00:00, 25.32it/s]\n",
            "100%|██████████| 203/203 [00:02<00:00, 71.00it/s]\n"
          ]
        },
        {
          "output_type": "stream",
          "name": "stdout",
          "text": [
            "[112/300] Train Acc: 0.80919 Loss: 0.58607 | Val Acc: 0.76210 loss: 0.81810\n"
          ]
        },
        {
          "output_type": "stream",
          "name": "stderr",
          "text": [
            "100%|██████████| 1865/1865 [01:13<00:00, 25.28it/s]\n",
            "100%|██████████| 203/203 [00:03<00:00, 60.11it/s]\n"
          ]
        },
        {
          "output_type": "stream",
          "name": "stdout",
          "text": [
            "[113/300] Train Acc: 0.80951 Loss: 0.58517 | Val Acc: 0.76114 loss: 0.81688\n"
          ]
        },
        {
          "output_type": "stream",
          "name": "stderr",
          "text": [
            "100%|██████████| 1865/1865 [01:13<00:00, 25.33it/s]\n",
            "100%|██████████| 203/203 [00:02<00:00, 70.57it/s]\n"
          ]
        },
        {
          "output_type": "stream",
          "name": "stdout",
          "text": [
            "[114/300] Train Acc: 0.80991 Loss: 0.58350 | Val Acc: 0.76221 loss: 0.80973\n"
          ]
        },
        {
          "output_type": "stream",
          "name": "stderr",
          "text": [
            "100%|██████████| 1865/1865 [01:13<00:00, 25.21it/s]\n",
            "100%|██████████| 203/203 [00:02<00:00, 70.70it/s]\n"
          ]
        },
        {
          "output_type": "stream",
          "name": "stdout",
          "text": [
            "[115/300] Train Acc: 0.80948 Loss: 0.58437 | Val Acc: 0.76001 loss: 0.82211\n"
          ]
        },
        {
          "output_type": "stream",
          "name": "stderr",
          "text": [
            "100%|██████████| 1865/1865 [01:13<00:00, 25.33it/s]\n",
            "100%|██████████| 203/203 [00:02<00:00, 71.40it/s]\n"
          ]
        },
        {
          "output_type": "stream",
          "name": "stdout",
          "text": [
            "[116/300] Train Acc: 0.80929 Loss: 0.58439 | Val Acc: 0.76267 loss: 0.80981\n"
          ]
        },
        {
          "output_type": "stream",
          "name": "stderr",
          "text": [
            "100%|██████████| 1865/1865 [01:13<00:00, 25.25it/s]\n",
            "100%|██████████| 203/203 [00:03<00:00, 57.58it/s]\n"
          ]
        },
        {
          "output_type": "stream",
          "name": "stdout",
          "text": [
            "[117/300] Train Acc: 0.80992 Loss: 0.58251 | Val Acc: 0.76164 loss: 0.81300\n"
          ]
        },
        {
          "output_type": "stream",
          "name": "stderr",
          "text": [
            "100%|██████████| 1865/1865 [01:13<00:00, 25.34it/s]\n",
            "100%|██████████| 203/203 [00:02<00:00, 69.54it/s]\n"
          ]
        },
        {
          "output_type": "stream",
          "name": "stdout",
          "text": [
            "[118/300] Train Acc: 0.80971 Loss: 0.58286 | Val Acc: 0.76204 loss: 0.81848\n"
          ]
        },
        {
          "output_type": "stream",
          "name": "stderr",
          "text": [
            "100%|██████████| 1865/1865 [01:13<00:00, 25.32it/s]\n",
            "100%|██████████| 203/203 [00:02<00:00, 68.77it/s]\n"
          ]
        },
        {
          "output_type": "stream",
          "name": "stdout",
          "text": [
            "[119/300] Train Acc: 0.81015 Loss: 0.58174 | Val Acc: 0.75959 loss: 0.81642\n"
          ]
        },
        {
          "output_type": "stream",
          "name": "stderr",
          "text": [
            "100%|██████████| 1865/1865 [01:13<00:00, 25.25it/s]\n",
            "100%|██████████| 203/203 [00:03<00:00, 65.75it/s]\n"
          ]
        },
        {
          "output_type": "stream",
          "name": "stdout",
          "text": [
            "[120/300] Train Acc: 0.81014 Loss: 0.58131 | Val Acc: 0.76170 loss: 0.81860\n"
          ]
        },
        {
          "output_type": "stream",
          "name": "stderr",
          "text": [
            "100%|██████████| 1865/1865 [01:14<00:00, 25.19it/s]\n",
            "100%|██████████| 203/203 [00:03<00:00, 67.29it/s]\n"
          ]
        },
        {
          "output_type": "stream",
          "name": "stdout",
          "text": [
            "[121/300] Train Acc: 0.81014 Loss: 0.58139 | Val Acc: 0.76208 loss: 0.81912\n"
          ]
        },
        {
          "output_type": "stream",
          "name": "stderr",
          "text": [
            "100%|██████████| 1865/1865 [01:13<00:00, 25.22it/s]\n",
            "100%|██████████| 203/203 [00:02<00:00, 70.12it/s]\n"
          ]
        },
        {
          "output_type": "stream",
          "name": "stdout",
          "text": [
            "[122/300] Train Acc: 0.81081 Loss: 0.58023 | Val Acc: 0.76187 loss: 0.81067\n"
          ]
        },
        {
          "output_type": "stream",
          "name": "stderr",
          "text": [
            "100%|██████████| 1865/1865 [01:13<00:00, 25.30it/s]\n",
            "100%|██████████| 203/203 [00:02<00:00, 70.48it/s]\n"
          ]
        },
        {
          "output_type": "stream",
          "name": "stdout",
          "text": [
            "[123/300] Train Acc: 0.81079 Loss: 0.57977 | Val Acc: 0.76187 loss: 0.82189\n"
          ]
        },
        {
          "output_type": "stream",
          "name": "stderr",
          "text": [
            "100%|██████████| 1865/1865 [01:14<00:00, 25.20it/s]\n",
            "100%|██████████| 203/203 [00:03<00:00, 60.81it/s]\n"
          ]
        },
        {
          "output_type": "stream",
          "name": "stdout",
          "text": [
            "[124/300] Train Acc: 0.81076 Loss: 0.57974 | Val Acc: 0.76211 loss: 0.81488\n"
          ]
        },
        {
          "output_type": "stream",
          "name": "stderr",
          "text": [
            "100%|██████████| 1865/1865 [01:13<00:00, 25.32it/s]\n",
            "100%|██████████| 203/203 [00:02<00:00, 69.59it/s]\n"
          ]
        },
        {
          "output_type": "stream",
          "name": "stdout",
          "text": [
            "[125/300] Train Acc: 0.81066 Loss: 0.57901 | Val Acc: 0.76051 loss: 0.82281\n"
          ]
        },
        {
          "output_type": "stream",
          "name": "stderr",
          "text": [
            "100%|██████████| 1865/1865 [01:13<00:00, 25.33it/s]\n",
            "100%|██████████| 203/203 [00:02<00:00, 69.14it/s]\n"
          ]
        },
        {
          "output_type": "stream",
          "name": "stdout",
          "text": [
            "[126/300] Train Acc: 0.81091 Loss: 0.57858 | Val Acc: 0.76318 loss: 0.81098\n"
          ]
        },
        {
          "output_type": "stream",
          "name": "stderr",
          "text": [
            "100%|██████████| 1865/1865 [01:13<00:00, 25.37it/s]\n",
            "100%|██████████| 203/203 [00:02<00:00, 70.92it/s]\n"
          ]
        },
        {
          "output_type": "stream",
          "name": "stdout",
          "text": [
            "[127/300] Train Acc: 0.81087 Loss: 0.57791 | Val Acc: 0.76019 loss: 0.81394\n"
          ]
        },
        {
          "output_type": "stream",
          "name": "stderr",
          "text": [
            "100%|██████████| 1865/1865 [01:13<00:00, 25.30it/s]\n",
            "100%|██████████| 203/203 [00:03<00:00, 64.59it/s]\n"
          ]
        },
        {
          "output_type": "stream",
          "name": "stdout",
          "text": [
            "[128/300] Train Acc: 0.81138 Loss: 0.57718 | Val Acc: 0.76303 loss: 0.81496\n"
          ]
        },
        {
          "output_type": "stream",
          "name": "stderr",
          "text": [
            "100%|██████████| 1865/1865 [01:13<00:00, 25.42it/s]\n",
            "100%|██████████| 203/203 [00:02<00:00, 68.54it/s]\n"
          ]
        },
        {
          "output_type": "stream",
          "name": "stdout",
          "text": [
            "[129/300] Train Acc: 0.81158 Loss: 0.57610 | Val Acc: 0.76196 loss: 0.81801\n"
          ]
        },
        {
          "output_type": "stream",
          "name": "stderr",
          "text": [
            "100%|██████████| 1865/1865 [01:13<00:00, 25.40it/s]\n",
            "100%|██████████| 203/203 [00:03<00:00, 63.23it/s]\n"
          ]
        },
        {
          "output_type": "stream",
          "name": "stdout",
          "text": [
            "[130/300] Train Acc: 0.81132 Loss: 0.57655 | Val Acc: 0.76294 loss: 0.81728\n"
          ]
        },
        {
          "output_type": "stream",
          "name": "stderr",
          "text": [
            "100%|██████████| 1865/1865 [01:13<00:00, 25.42it/s]\n",
            "100%|██████████| 203/203 [00:02<00:00, 69.13it/s]\n"
          ]
        },
        {
          "output_type": "stream",
          "name": "stdout",
          "text": [
            "[131/300] Train Acc: 0.81146 Loss: 0.57620 | Val Acc: 0.76305 loss: 0.81920\n"
          ]
        },
        {
          "output_type": "stream",
          "name": "stderr",
          "text": [
            "100%|██████████| 1865/1865 [01:13<00:00, 25.49it/s]\n",
            "100%|██████████| 203/203 [00:03<00:00, 59.54it/s]\n"
          ]
        },
        {
          "output_type": "stream",
          "name": "stdout",
          "text": [
            "[132/300] Train Acc: 0.81198 Loss: 0.57543 | Val Acc: 0.76372 loss: 0.81156\n",
            "saving model with acc 0.76372\n"
          ]
        },
        {
          "output_type": "stream",
          "name": "stderr",
          "text": [
            "100%|██████████| 1865/1865 [01:13<00:00, 25.34it/s]\n",
            "100%|██████████| 203/203 [00:03<00:00, 65.93it/s]\n"
          ]
        },
        {
          "output_type": "stream",
          "name": "stdout",
          "text": [
            "[133/300] Train Acc: 0.81162 Loss: 0.57617 | Val Acc: 0.76265 loss: 0.81776\n"
          ]
        },
        {
          "output_type": "stream",
          "name": "stderr",
          "text": [
            "100%|██████████| 1865/1865 [01:13<00:00, 25.39it/s]\n",
            "100%|██████████| 203/203 [00:02<00:00, 71.39it/s]\n"
          ]
        },
        {
          "output_type": "stream",
          "name": "stdout",
          "text": [
            "[134/300] Train Acc: 0.81216 Loss: 0.57503 | Val Acc: 0.76456 loss: 0.81190\n",
            "saving model with acc 0.76456\n"
          ]
        },
        {
          "output_type": "stream",
          "name": "stderr",
          "text": [
            "100%|██████████| 1865/1865 [01:13<00:00, 25.36it/s]\n",
            "100%|██████████| 203/203 [00:02<00:00, 70.86it/s]\n"
          ]
        },
        {
          "output_type": "stream",
          "name": "stdout",
          "text": [
            "[135/300] Train Acc: 0.81209 Loss: 0.57419 | Val Acc: 0.76045 loss: 0.81922\n"
          ]
        },
        {
          "output_type": "stream",
          "name": "stderr",
          "text": [
            "100%|██████████| 1865/1865 [01:13<00:00, 25.43it/s]\n",
            "100%|██████████| 203/203 [00:03<00:00, 64.89it/s]\n"
          ]
        },
        {
          "output_type": "stream",
          "name": "stdout",
          "text": [
            "[136/300] Train Acc: 0.81178 Loss: 0.57467 | Val Acc: 0.76224 loss: 0.81335\n"
          ]
        },
        {
          "output_type": "stream",
          "name": "stderr",
          "text": [
            "100%|██████████| 1865/1865 [01:13<00:00, 25.33it/s]\n",
            "100%|██████████| 203/203 [00:03<00:00, 64.64it/s]\n"
          ]
        },
        {
          "output_type": "stream",
          "name": "stdout",
          "text": [
            "[137/300] Train Acc: 0.81232 Loss: 0.57378 | Val Acc: 0.76299 loss: 0.81837\n"
          ]
        },
        {
          "output_type": "stream",
          "name": "stderr",
          "text": [
            "100%|██████████| 1865/1865 [01:13<00:00, 25.39it/s]\n",
            "100%|██████████| 203/203 [00:02<00:00, 72.07it/s]\n"
          ]
        },
        {
          "output_type": "stream",
          "name": "stdout",
          "text": [
            "[138/300] Train Acc: 0.81208 Loss: 0.57299 | Val Acc: 0.76368 loss: 0.81793\n"
          ]
        },
        {
          "output_type": "stream",
          "name": "stderr",
          "text": [
            "100%|██████████| 1865/1865 [01:13<00:00, 25.45it/s]\n",
            "100%|██████████| 203/203 [00:02<00:00, 70.15it/s]\n"
          ]
        },
        {
          "output_type": "stream",
          "name": "stdout",
          "text": [
            "[139/300] Train Acc: 0.81230 Loss: 0.57306 | Val Acc: 0.76157 loss: 0.82452\n"
          ]
        },
        {
          "output_type": "stream",
          "name": "stderr",
          "text": [
            "100%|██████████| 1865/1865 [01:13<00:00, 25.47it/s]\n",
            "100%|██████████| 203/203 [00:03<00:00, 63.99it/s]\n"
          ]
        },
        {
          "output_type": "stream",
          "name": "stdout",
          "text": [
            "[140/300] Train Acc: 0.81240 Loss: 0.57352 | Val Acc: 0.76387 loss: 0.81340\n"
          ]
        },
        {
          "output_type": "stream",
          "name": "stderr",
          "text": [
            "100%|██████████| 1865/1865 [01:13<00:00, 25.37it/s]\n",
            "100%|██████████| 203/203 [00:03<00:00, 61.19it/s]\n"
          ]
        },
        {
          "output_type": "stream",
          "name": "stdout",
          "text": [
            "[141/300] Train Acc: 0.81244 Loss: 0.57313 | Val Acc: 0.76448 loss: 0.81260\n"
          ]
        },
        {
          "output_type": "stream",
          "name": "stderr",
          "text": [
            "100%|██████████| 1865/1865 [01:13<00:00, 25.44it/s]\n",
            "100%|██████████| 203/203 [00:02<00:00, 71.58it/s]\n"
          ]
        },
        {
          "output_type": "stream",
          "name": "stdout",
          "text": [
            "[142/300] Train Acc: 0.81263 Loss: 0.57099 | Val Acc: 0.76448 loss: 0.80909\n"
          ]
        },
        {
          "output_type": "stream",
          "name": "stderr",
          "text": [
            "100%|██████████| 1865/1865 [01:13<00:00, 25.35it/s]\n",
            "100%|██████████| 203/203 [00:02<00:00, 68.70it/s]\n"
          ]
        },
        {
          "output_type": "stream",
          "name": "stdout",
          "text": [
            "[143/300] Train Acc: 0.81230 Loss: 0.57203 | Val Acc: 0.76372 loss: 0.81535\n"
          ]
        },
        {
          "output_type": "stream",
          "name": "stderr",
          "text": [
            "100%|██████████| 1865/1865 [01:13<00:00, 25.46it/s]\n",
            "100%|██████████| 203/203 [00:02<00:00, 71.73it/s]\n"
          ]
        },
        {
          "output_type": "stream",
          "name": "stdout",
          "text": [
            "[144/300] Train Acc: 0.81307 Loss: 0.56976 | Val Acc: 0.76316 loss: 0.81948\n"
          ]
        },
        {
          "output_type": "stream",
          "name": "stderr",
          "text": [
            "100%|██████████| 1865/1865 [01:13<00:00, 25.55it/s]\n",
            "100%|██████████| 203/203 [00:03<00:00, 60.72it/s]\n"
          ]
        },
        {
          "output_type": "stream",
          "name": "stdout",
          "text": [
            "[145/300] Train Acc: 0.81303 Loss: 0.57042 | Val Acc: 0.76216 loss: 0.82063\n"
          ]
        },
        {
          "output_type": "stream",
          "name": "stderr",
          "text": [
            "100%|██████████| 1865/1865 [01:13<00:00, 25.42it/s]\n",
            "100%|██████████| 203/203 [00:02<00:00, 70.45it/s]\n"
          ]
        },
        {
          "output_type": "stream",
          "name": "stdout",
          "text": [
            "[146/300] Train Acc: 0.81304 Loss: 0.57051 | Val Acc: 0.76285 loss: 0.81536\n"
          ]
        },
        {
          "output_type": "stream",
          "name": "stderr",
          "text": [
            "100%|██████████| 1865/1865 [01:12<00:00, 25.57it/s]\n",
            "100%|██████████| 203/203 [00:02<00:00, 70.71it/s]\n"
          ]
        },
        {
          "output_type": "stream",
          "name": "stdout",
          "text": [
            "[147/300] Train Acc: 0.81314 Loss: 0.56936 | Val Acc: 0.76272 loss: 0.81725\n"
          ]
        },
        {
          "output_type": "stream",
          "name": "stderr",
          "text": [
            "100%|██████████| 1865/1865 [01:13<00:00, 25.44it/s]\n",
            "100%|██████████| 203/203 [00:02<00:00, 71.01it/s]\n"
          ]
        },
        {
          "output_type": "stream",
          "name": "stdout",
          "text": [
            "[148/300] Train Acc: 0.81301 Loss: 0.57020 | Val Acc: 0.76197 loss: 0.82563\n"
          ]
        },
        {
          "output_type": "stream",
          "name": "stderr",
          "text": [
            "100%|██████████| 1865/1865 [01:13<00:00, 25.46it/s]\n",
            "100%|██████████| 203/203 [00:03<00:00, 61.89it/s]\n"
          ]
        },
        {
          "output_type": "stream",
          "name": "stdout",
          "text": [
            "[149/300] Train Acc: 0.81336 Loss: 0.56930 | Val Acc: 0.76276 loss: 0.82437\n"
          ]
        },
        {
          "output_type": "stream",
          "name": "stderr",
          "text": [
            "100%|██████████| 1865/1865 [01:13<00:00, 25.45it/s]\n",
            "100%|██████████| 203/203 [00:02<00:00, 71.29it/s]\n"
          ]
        },
        {
          "output_type": "stream",
          "name": "stdout",
          "text": [
            "[150/300] Train Acc: 0.81312 Loss: 0.56963 | Val Acc: 0.76203 loss: 0.82256\n"
          ]
        },
        {
          "output_type": "stream",
          "name": "stderr",
          "text": [
            "100%|██████████| 1865/1865 [01:13<00:00, 25.50it/s]\n",
            "100%|██████████| 203/203 [00:02<00:00, 70.55it/s]\n"
          ]
        },
        {
          "output_type": "stream",
          "name": "stdout",
          "text": [
            "[151/300] Train Acc: 0.81327 Loss: 0.56856 | Val Acc: 0.76312 loss: 0.81777\n"
          ]
        },
        {
          "output_type": "stream",
          "name": "stderr",
          "text": [
            "100%|██████████| 1865/1865 [01:13<00:00, 25.48it/s]\n",
            "100%|██████████| 203/203 [00:02<00:00, 70.16it/s]\n"
          ]
        },
        {
          "output_type": "stream",
          "name": "stdout",
          "text": [
            "[152/300] Train Acc: 0.81396 Loss: 0.56864 | Val Acc: 0.76358 loss: 0.81854\n"
          ]
        },
        {
          "output_type": "stream",
          "name": "stderr",
          "text": [
            "100%|██████████| 1865/1865 [01:13<00:00, 25.53it/s]\n",
            "100%|██████████| 203/203 [00:03<00:00, 61.08it/s]\n"
          ]
        },
        {
          "output_type": "stream",
          "name": "stdout",
          "text": [
            "[153/300] Train Acc: 0.81309 Loss: 0.56915 | Val Acc: 0.76282 loss: 0.82364\n"
          ]
        },
        {
          "output_type": "stream",
          "name": "stderr",
          "text": [
            "100%|██████████| 1865/1865 [01:13<00:00, 25.47it/s]\n",
            "100%|██████████| 203/203 [00:02<00:00, 71.13it/s]\n"
          ]
        },
        {
          "output_type": "stream",
          "name": "stdout",
          "text": [
            "[154/300] Train Acc: 0.81408 Loss: 0.56765 | Val Acc: 0.76217 loss: 0.81804\n"
          ]
        },
        {
          "output_type": "stream",
          "name": "stderr",
          "text": [
            "100%|██████████| 1865/1865 [01:13<00:00, 25.51it/s]\n",
            "100%|██████████| 203/203 [00:02<00:00, 71.50it/s]\n"
          ]
        },
        {
          "output_type": "stream",
          "name": "stdout",
          "text": [
            "[155/300] Train Acc: 0.81388 Loss: 0.56685 | Val Acc: 0.76289 loss: 0.81899\n"
          ]
        },
        {
          "output_type": "stream",
          "name": "stderr",
          "text": [
            "100%|██████████| 1865/1865 [01:13<00:00, 25.41it/s]\n",
            "100%|██████████| 203/203 [00:02<00:00, 72.15it/s]\n"
          ]
        },
        {
          "output_type": "stream",
          "name": "stdout",
          "text": [
            "[156/300] Train Acc: 0.81409 Loss: 0.56676 | Val Acc: 0.76296 loss: 0.81362\n"
          ]
        },
        {
          "output_type": "stream",
          "name": "stderr",
          "text": [
            "100%|██████████| 1865/1865 [01:13<00:00, 25.52it/s]\n",
            "100%|██████████| 203/203 [00:03<00:00, 61.07it/s]\n"
          ]
        },
        {
          "output_type": "stream",
          "name": "stdout",
          "text": [
            "[157/300] Train Acc: 0.81370 Loss: 0.56645 | Val Acc: 0.76022 loss: 0.82746\n"
          ]
        },
        {
          "output_type": "stream",
          "name": "stderr",
          "text": [
            "100%|██████████| 1865/1865 [01:13<00:00, 25.47it/s]\n",
            "100%|██████████| 203/203 [00:02<00:00, 69.88it/s]\n"
          ]
        },
        {
          "output_type": "stream",
          "name": "stdout",
          "text": [
            "[158/300] Train Acc: 0.81427 Loss: 0.56580 | Val Acc: 0.76360 loss: 0.81644\n"
          ]
        },
        {
          "output_type": "stream",
          "name": "stderr",
          "text": [
            "100%|██████████| 1865/1865 [01:13<00:00, 25.40it/s]\n",
            "100%|██████████| 203/203 [00:02<00:00, 69.57it/s]\n"
          ]
        },
        {
          "output_type": "stream",
          "name": "stdout",
          "text": [
            "[159/300] Train Acc: 0.81394 Loss: 0.56638 | Val Acc: 0.76291 loss: 0.81901\n"
          ]
        },
        {
          "output_type": "stream",
          "name": "stderr",
          "text": [
            "100%|██████████| 1865/1865 [01:13<00:00, 25.44it/s]\n",
            "100%|██████████| 203/203 [00:02<00:00, 71.76it/s]\n"
          ]
        },
        {
          "output_type": "stream",
          "name": "stdout",
          "text": [
            "[160/300] Train Acc: 0.81375 Loss: 0.56591 | Val Acc: 0.76283 loss: 0.81546\n"
          ]
        },
        {
          "output_type": "stream",
          "name": "stderr",
          "text": [
            "100%|██████████| 1865/1865 [01:13<00:00, 25.33it/s]\n",
            "100%|██████████| 203/203 [00:03<00:00, 62.60it/s]\n"
          ]
        },
        {
          "output_type": "stream",
          "name": "stdout",
          "text": [
            "[161/300] Train Acc: 0.81409 Loss: 0.56579 | Val Acc: 0.76310 loss: 0.81669\n"
          ]
        },
        {
          "output_type": "stream",
          "name": "stderr",
          "text": [
            "100%|██████████| 1865/1865 [01:13<00:00, 25.40it/s]\n",
            "100%|██████████| 203/203 [00:02<00:00, 69.99it/s]\n"
          ]
        },
        {
          "output_type": "stream",
          "name": "stdout",
          "text": [
            "[162/300] Train Acc: 0.81434 Loss: 0.56477 | Val Acc: 0.76280 loss: 0.82014\n"
          ]
        },
        {
          "output_type": "stream",
          "name": "stderr",
          "text": [
            "100%|██████████| 1865/1865 [01:13<00:00, 25.43it/s]\n",
            "100%|██████████| 203/203 [00:02<00:00, 70.32it/s]\n"
          ]
        },
        {
          "output_type": "stream",
          "name": "stdout",
          "text": [
            "[163/300] Train Acc: 0.81415 Loss: 0.56470 | Val Acc: 0.76242 loss: 0.82511\n"
          ]
        },
        {
          "output_type": "stream",
          "name": "stderr",
          "text": [
            "100%|██████████| 1865/1865 [01:13<00:00, 25.54it/s]\n",
            "100%|██████████| 203/203 [00:02<00:00, 69.61it/s]\n"
          ]
        },
        {
          "output_type": "stream",
          "name": "stdout",
          "text": [
            "[164/300] Train Acc: 0.81470 Loss: 0.56335 | Val Acc: 0.76252 loss: 0.81692\n"
          ]
        },
        {
          "output_type": "stream",
          "name": "stderr",
          "text": [
            "100%|██████████| 1865/1865 [01:13<00:00, 25.48it/s]\n",
            "100%|██████████| 203/203 [00:02<00:00, 69.19it/s]\n"
          ]
        },
        {
          "output_type": "stream",
          "name": "stdout",
          "text": [
            "[165/300] Train Acc: 0.81486 Loss: 0.56300 | Val Acc: 0.76314 loss: 0.82235\n"
          ]
        },
        {
          "output_type": "stream",
          "name": "stderr",
          "text": [
            "100%|██████████| 1865/1865 [01:13<00:00, 25.45it/s]\n",
            "100%|██████████| 203/203 [00:03<00:00, 63.75it/s]\n"
          ]
        },
        {
          "output_type": "stream",
          "name": "stdout",
          "text": [
            "[166/300] Train Acc: 0.81461 Loss: 0.56414 | Val Acc: 0.76234 loss: 0.82228\n"
          ]
        },
        {
          "output_type": "stream",
          "name": "stderr",
          "text": [
            "100%|██████████| 1865/1865 [01:13<00:00, 25.38it/s]\n",
            "100%|██████████| 203/203 [00:02<00:00, 71.06it/s]\n"
          ]
        },
        {
          "output_type": "stream",
          "name": "stdout",
          "text": [
            "[167/300] Train Acc: 0.81485 Loss: 0.56280 | Val Acc: 0.76253 loss: 0.82574\n"
          ]
        },
        {
          "output_type": "stream",
          "name": "stderr",
          "text": [
            "100%|██████████| 1865/1865 [01:13<00:00, 25.43it/s]\n",
            "100%|██████████| 203/203 [00:02<00:00, 72.09it/s]\n"
          ]
        },
        {
          "output_type": "stream",
          "name": "stdout",
          "text": [
            "[168/300] Train Acc: 0.81463 Loss: 0.56341 | Val Acc: 0.76311 loss: 0.82222\n"
          ]
        },
        {
          "output_type": "stream",
          "name": "stderr",
          "text": [
            "100%|██████████| 1865/1865 [01:13<00:00, 25.53it/s]\n",
            "100%|██████████| 203/203 [00:03<00:00, 66.89it/s]\n"
          ]
        },
        {
          "output_type": "stream",
          "name": "stdout",
          "text": [
            "[169/300] Train Acc: 0.81457 Loss: 0.56319 | Val Acc: 0.76256 loss: 0.81502\n"
          ]
        },
        {
          "output_type": "stream",
          "name": "stderr",
          "text": [
            "100%|██████████| 1865/1865 [01:13<00:00, 25.35it/s]\n",
            "100%|██████████| 203/203 [00:03<00:00, 66.58it/s]\n"
          ]
        },
        {
          "output_type": "stream",
          "name": "stdout",
          "text": [
            "[170/300] Train Acc: 0.81492 Loss: 0.56239 | Val Acc: 0.76360 loss: 0.81633\n"
          ]
        },
        {
          "output_type": "stream",
          "name": "stderr",
          "text": [
            "100%|██████████| 1865/1865 [01:12<00:00, 25.56it/s]\n",
            "100%|██████████| 203/203 [00:02<00:00, 69.73it/s]\n"
          ]
        },
        {
          "output_type": "stream",
          "name": "stdout",
          "text": [
            "[171/300] Train Acc: 0.81488 Loss: 0.56145 | Val Acc: 0.76178 loss: 0.82056\n"
          ]
        },
        {
          "output_type": "stream",
          "name": "stderr",
          "text": [
            "100%|██████████| 1865/1865 [01:13<00:00, 25.36it/s]\n",
            "100%|██████████| 203/203 [00:02<00:00, 71.53it/s]\n"
          ]
        },
        {
          "output_type": "stream",
          "name": "stdout",
          "text": [
            "[172/300] Train Acc: 0.81502 Loss: 0.56218 | Val Acc: 0.76267 loss: 0.81269\n"
          ]
        },
        {
          "output_type": "stream",
          "name": "stderr",
          "text": [
            "100%|██████████| 1865/1865 [01:13<00:00, 25.48it/s]\n",
            "100%|██████████| 203/203 [00:03<00:00, 66.74it/s]\n"
          ]
        },
        {
          "output_type": "stream",
          "name": "stdout",
          "text": [
            "[173/300] Train Acc: 0.81532 Loss: 0.56144 | Val Acc: 0.76207 loss: 0.82068\n"
          ]
        },
        {
          "output_type": "stream",
          "name": "stderr",
          "text": [
            "100%|██████████| 1865/1865 [01:13<00:00, 25.38it/s]\n",
            "100%|██████████| 203/203 [00:02<00:00, 67.89it/s]\n"
          ]
        },
        {
          "output_type": "stream",
          "name": "stdout",
          "text": [
            "[174/300] Train Acc: 0.81521 Loss: 0.56046 | Val Acc: 0.76239 loss: 0.82277\n"
          ]
        },
        {
          "output_type": "stream",
          "name": "stderr",
          "text": [
            "100%|██████████| 1865/1865 [01:13<00:00, 25.53it/s]\n",
            "100%|██████████| 203/203 [00:02<00:00, 70.70it/s]\n"
          ]
        },
        {
          "output_type": "stream",
          "name": "stdout",
          "text": [
            "[175/300] Train Acc: 0.81557 Loss: 0.56011 | Val Acc: 0.76101 loss: 0.82981\n"
          ]
        },
        {
          "output_type": "stream",
          "name": "stderr",
          "text": [
            "100%|██████████| 1865/1865 [01:13<00:00, 25.46it/s]\n",
            "100%|██████████| 203/203 [00:02<00:00, 70.36it/s]\n"
          ]
        },
        {
          "output_type": "stream",
          "name": "stdout",
          "text": [
            "[176/300] Train Acc: 0.81505 Loss: 0.56098 | Val Acc: 0.76174 loss: 0.82131\n"
          ]
        },
        {
          "output_type": "stream",
          "name": "stderr",
          "text": [
            "100%|██████████| 1865/1865 [01:13<00:00, 25.54it/s]\n",
            "100%|██████████| 203/203 [00:03<00:00, 66.33it/s]\n"
          ]
        },
        {
          "output_type": "stream",
          "name": "stdout",
          "text": [
            "[177/300] Train Acc: 0.81575 Loss: 0.55913 | Val Acc: 0.76292 loss: 0.82322\n"
          ]
        },
        {
          "output_type": "stream",
          "name": "stderr",
          "text": [
            "100%|██████████| 1865/1865 [01:13<00:00, 25.42it/s]\n",
            "100%|██████████| 203/203 [00:03<00:00, 66.35it/s]\n"
          ]
        },
        {
          "output_type": "stream",
          "name": "stdout",
          "text": [
            "[178/300] Train Acc: 0.81504 Loss: 0.56015 | Val Acc: 0.76238 loss: 0.81973\n"
          ]
        },
        {
          "output_type": "stream",
          "name": "stderr",
          "text": [
            "100%|██████████| 1865/1865 [01:13<00:00, 25.41it/s]\n",
            "100%|██████████| 203/203 [00:02<00:00, 71.52it/s]\n"
          ]
        },
        {
          "output_type": "stream",
          "name": "stdout",
          "text": [
            "[179/300] Train Acc: 0.81570 Loss: 0.55989 | Val Acc: 0.76129 loss: 0.83585\n"
          ]
        },
        {
          "output_type": "stream",
          "name": "stderr",
          "text": [
            "100%|██████████| 1865/1865 [01:13<00:00, 25.46it/s]\n",
            "100%|██████████| 203/203 [00:02<00:00, 71.55it/s]\n"
          ]
        },
        {
          "output_type": "stream",
          "name": "stdout",
          "text": [
            "[180/300] Train Acc: 0.81576 Loss: 0.55870 | Val Acc: 0.76283 loss: 0.81809\n"
          ]
        },
        {
          "output_type": "stream",
          "name": "stderr",
          "text": [
            "100%|██████████| 1865/1865 [01:13<00:00, 25.42it/s]\n",
            "100%|██████████| 203/203 [00:02<00:00, 70.49it/s]\n"
          ]
        },
        {
          "output_type": "stream",
          "name": "stdout",
          "text": [
            "[181/300] Train Acc: 0.81577 Loss: 0.55929 | Val Acc: 0.76259 loss: 0.81821\n"
          ]
        },
        {
          "output_type": "stream",
          "name": "stderr",
          "text": [
            "100%|██████████| 1865/1865 [01:13<00:00, 25.46it/s]\n",
            "100%|██████████| 203/203 [00:03<00:00, 61.18it/s]\n"
          ]
        },
        {
          "output_type": "stream",
          "name": "stdout",
          "text": [
            "[182/300] Train Acc: 0.81563 Loss: 0.55896 | Val Acc: 0.76380 loss: 0.81763\n"
          ]
        },
        {
          "output_type": "stream",
          "name": "stderr",
          "text": [
            "100%|██████████| 1865/1865 [01:13<00:00, 25.48it/s]\n",
            "100%|██████████| 203/203 [00:02<00:00, 70.77it/s]\n"
          ]
        },
        {
          "output_type": "stream",
          "name": "stdout",
          "text": [
            "[183/300] Train Acc: 0.81583 Loss: 0.55849 | Val Acc: 0.76064 loss: 0.82322\n"
          ]
        },
        {
          "output_type": "stream",
          "name": "stderr",
          "text": [
            "100%|██████████| 1865/1865 [01:13<00:00, 25.51it/s]\n",
            "100%|██████████| 203/203 [00:02<00:00, 71.43it/s]\n"
          ]
        },
        {
          "output_type": "stream",
          "name": "stdout",
          "text": [
            "[184/300] Train Acc: 0.81585 Loss: 0.55794 | Val Acc: 0.76359 loss: 0.82220\n"
          ]
        },
        {
          "output_type": "stream",
          "name": "stderr",
          "text": [
            "100%|██████████| 1865/1865 [01:13<00:00, 25.53it/s]\n",
            "100%|██████████| 203/203 [00:03<00:00, 60.39it/s]\n"
          ]
        },
        {
          "output_type": "stream",
          "name": "stdout",
          "text": [
            "[185/300] Train Acc: 0.81592 Loss: 0.55832 | Val Acc: 0.76322 loss: 0.81880\n"
          ]
        },
        {
          "output_type": "stream",
          "name": "stderr",
          "text": [
            "100%|██████████| 1865/1865 [01:13<00:00, 25.54it/s]\n",
            "100%|██████████| 203/203 [00:03<00:00, 63.16it/s]\n"
          ]
        },
        {
          "output_type": "stream",
          "name": "stdout",
          "text": [
            "[186/300] Train Acc: 0.81578 Loss: 0.55833 | Val Acc: 0.76400 loss: 0.81778\n"
          ]
        },
        {
          "output_type": "stream",
          "name": "stderr",
          "text": [
            "100%|██████████| 1865/1865 [01:12<00:00, 25.55it/s]\n",
            "100%|██████████| 203/203 [00:02<00:00, 70.40it/s]\n"
          ]
        },
        {
          "output_type": "stream",
          "name": "stdout",
          "text": [
            "[187/300] Train Acc: 0.81657 Loss: 0.55695 | Val Acc: 0.76261 loss: 0.82223\n"
          ]
        },
        {
          "output_type": "stream",
          "name": "stderr",
          "text": [
            "100%|██████████| 1865/1865 [01:13<00:00, 25.47it/s]\n",
            "100%|██████████| 203/203 [00:02<00:00, 69.72it/s]\n"
          ]
        },
        {
          "output_type": "stream",
          "name": "stdout",
          "text": [
            "[188/300] Train Acc: 0.81661 Loss: 0.55643 | Val Acc: 0.76338 loss: 0.81620\n"
          ]
        },
        {
          "output_type": "stream",
          "name": "stderr",
          "text": [
            "100%|██████████| 1865/1865 [01:12<00:00, 25.56it/s]\n",
            "100%|██████████| 203/203 [00:02<00:00, 69.36it/s]\n"
          ]
        },
        {
          "output_type": "stream",
          "name": "stdout",
          "text": [
            "[189/300] Train Acc: 0.81638 Loss: 0.55680 | Val Acc: 0.76211 loss: 0.82617\n"
          ]
        },
        {
          "output_type": "stream",
          "name": "stderr",
          "text": [
            "100%|██████████| 1865/1865 [01:13<00:00, 25.42it/s]\n",
            "100%|██████████| 203/203 [00:03<00:00, 61.87it/s]\n"
          ]
        },
        {
          "output_type": "stream",
          "name": "stdout",
          "text": [
            "[190/300] Train Acc: 0.81646 Loss: 0.55643 | Val Acc: 0.76276 loss: 0.82137\n"
          ]
        },
        {
          "output_type": "stream",
          "name": "stderr",
          "text": [
            "100%|██████████| 1865/1865 [01:13<00:00, 25.49it/s]\n",
            "100%|██████████| 203/203 [00:02<00:00, 70.23it/s]\n"
          ]
        },
        {
          "output_type": "stream",
          "name": "stdout",
          "text": [
            "[191/300] Train Acc: 0.81667 Loss: 0.55619 | Val Acc: 0.76189 loss: 0.82852\n"
          ]
        },
        {
          "output_type": "stream",
          "name": "stderr",
          "text": [
            "100%|██████████| 1865/1865 [01:12<00:00, 25.57it/s]\n",
            "100%|██████████| 203/203 [00:03<00:00, 63.80it/s]\n"
          ]
        },
        {
          "output_type": "stream",
          "name": "stdout",
          "text": [
            "[192/300] Train Acc: 0.81664 Loss: 0.55521 | Val Acc: 0.76258 loss: 0.82113\n"
          ]
        },
        {
          "output_type": "stream",
          "name": "stderr",
          "text": [
            "100%|██████████| 1865/1865 [01:13<00:00, 25.50it/s]\n",
            "100%|██████████| 203/203 [00:02<00:00, 71.04it/s]\n"
          ]
        },
        {
          "output_type": "stream",
          "name": "stdout",
          "text": [
            "[193/300] Train Acc: 0.81629 Loss: 0.55591 | Val Acc: 0.76420 loss: 0.81628\n"
          ]
        },
        {
          "output_type": "stream",
          "name": "stderr",
          "text": [
            "100%|██████████| 1865/1865 [01:13<00:00, 25.49it/s]\n",
            "100%|██████████| 203/203 [00:03<00:00, 63.20it/s]\n"
          ]
        },
        {
          "output_type": "stream",
          "name": "stdout",
          "text": [
            "[194/300] Train Acc: 0.81632 Loss: 0.55629 | Val Acc: 0.76273 loss: 0.82212\n"
          ]
        },
        {
          "output_type": "stream",
          "name": "stderr",
          "text": [
            "100%|██████████| 1865/1865 [01:13<00:00, 25.27it/s]\n",
            "100%|██████████| 203/203 [00:02<00:00, 71.04it/s]\n"
          ]
        },
        {
          "output_type": "stream",
          "name": "stdout",
          "text": [
            "[195/300] Train Acc: 0.81685 Loss: 0.55531 | Val Acc: 0.76195 loss: 0.83038\n"
          ]
        },
        {
          "output_type": "stream",
          "name": "stderr",
          "text": [
            "100%|██████████| 1865/1865 [01:13<00:00, 25.31it/s]\n",
            "100%|██████████| 203/203 [00:02<00:00, 69.42it/s]\n"
          ]
        },
        {
          "output_type": "stream",
          "name": "stdout",
          "text": [
            "[196/300] Train Acc: 0.81651 Loss: 0.55565 | Val Acc: 0.76342 loss: 0.82494\n"
          ]
        },
        {
          "output_type": "stream",
          "name": "stderr",
          "text": [
            "100%|██████████| 1865/1865 [01:13<00:00, 25.34it/s]\n",
            "100%|██████████| 203/203 [00:03<00:00, 61.02it/s]\n"
          ]
        },
        {
          "output_type": "stream",
          "name": "stdout",
          "text": [
            "[197/300] Train Acc: 0.81637 Loss: 0.55517 | Val Acc: 0.76311 loss: 0.82565\n"
          ]
        },
        {
          "output_type": "stream",
          "name": "stderr",
          "text": [
            "100%|██████████| 1865/1865 [01:13<00:00, 25.49it/s]\n",
            "100%|██████████| 203/203 [00:02<00:00, 69.76it/s]\n"
          ]
        },
        {
          "output_type": "stream",
          "name": "stdout",
          "text": [
            "[198/300] Train Acc: 0.81650 Loss: 0.55561 | Val Acc: 0.76366 loss: 0.82101\n"
          ]
        },
        {
          "output_type": "stream",
          "name": "stderr",
          "text": [
            "100%|██████████| 1865/1865 [01:13<00:00, 25.49it/s]\n",
            "100%|██████████| 203/203 [00:02<00:00, 71.71it/s]\n"
          ]
        },
        {
          "output_type": "stream",
          "name": "stdout",
          "text": [
            "[199/300] Train Acc: 0.81644 Loss: 0.55494 | Val Acc: 0.76181 loss: 0.82648\n"
          ]
        },
        {
          "output_type": "stream",
          "name": "stderr",
          "text": [
            "100%|██████████| 1865/1865 [01:13<00:00, 25.39it/s]\n",
            "100%|██████████| 203/203 [00:02<00:00, 71.63it/s]\n"
          ]
        },
        {
          "output_type": "stream",
          "name": "stdout",
          "text": [
            "[200/300] Train Acc: 0.81695 Loss: 0.55466 | Val Acc: 0.76396 loss: 0.81580\n"
          ]
        },
        {
          "output_type": "stream",
          "name": "stderr",
          "text": [
            "100%|██████████| 1865/1865 [01:13<00:00, 25.46it/s]\n",
            "100%|██████████| 203/203 [00:03<00:00, 61.78it/s]\n"
          ]
        },
        {
          "output_type": "stream",
          "name": "stdout",
          "text": [
            "[201/300] Train Acc: 0.81697 Loss: 0.55430 | Val Acc: 0.76297 loss: 0.82345\n"
          ]
        },
        {
          "output_type": "stream",
          "name": "stderr",
          "text": [
            "100%|██████████| 1865/1865 [01:13<00:00, 25.49it/s]\n",
            "100%|██████████| 203/203 [00:02<00:00, 69.79it/s]\n"
          ]
        },
        {
          "output_type": "stream",
          "name": "stdout",
          "text": [
            "[202/300] Train Acc: 0.81679 Loss: 0.55395 | Val Acc: 0.76268 loss: 0.82639\n"
          ]
        },
        {
          "output_type": "stream",
          "name": "stderr",
          "text": [
            "100%|██████████| 1865/1865 [01:13<00:00, 25.46it/s]\n",
            "100%|██████████| 203/203 [00:02<00:00, 70.57it/s]\n"
          ]
        },
        {
          "output_type": "stream",
          "name": "stdout",
          "text": [
            "[203/300] Train Acc: 0.81720 Loss: 0.55296 | Val Acc: 0.76167 loss: 0.82269\n"
          ]
        },
        {
          "output_type": "stream",
          "name": "stderr",
          "text": [
            "100%|██████████| 1865/1865 [01:13<00:00, 25.46it/s]\n",
            "100%|██████████| 203/203 [00:02<00:00, 69.49it/s]\n"
          ]
        },
        {
          "output_type": "stream",
          "name": "stdout",
          "text": [
            "[204/300] Train Acc: 0.81746 Loss: 0.55251 | Val Acc: 0.76404 loss: 0.82320\n"
          ]
        },
        {
          "output_type": "stream",
          "name": "stderr",
          "text": [
            "100%|██████████| 1865/1865 [01:13<00:00, 25.35it/s]\n",
            "100%|██████████| 203/203 [00:03<00:00, 62.47it/s]\n"
          ]
        },
        {
          "output_type": "stream",
          "name": "stdout",
          "text": [
            "[205/300] Train Acc: 0.81706 Loss: 0.55261 | Val Acc: 0.76368 loss: 0.82209\n"
          ]
        },
        {
          "output_type": "stream",
          "name": "stderr",
          "text": [
            "100%|██████████| 1865/1865 [01:13<00:00, 25.46it/s]\n",
            "100%|██████████| 203/203 [00:02<00:00, 71.47it/s]\n"
          ]
        },
        {
          "output_type": "stream",
          "name": "stdout",
          "text": [
            "[206/300] Train Acc: 0.81709 Loss: 0.55294 | Val Acc: 0.76597 loss: 0.81576\n",
            "saving model with acc 0.76597\n"
          ]
        },
        {
          "output_type": "stream",
          "name": "stderr",
          "text": [
            "100%|██████████| 1865/1865 [01:13<00:00, 25.41it/s]\n",
            "100%|██████████| 203/203 [00:02<00:00, 71.20it/s]\n"
          ]
        },
        {
          "output_type": "stream",
          "name": "stdout",
          "text": [
            "[207/300] Train Acc: 0.81712 Loss: 0.55232 | Val Acc: 0.76313 loss: 0.82662\n"
          ]
        },
        {
          "output_type": "stream",
          "name": "stderr",
          "text": [
            "100%|██████████| 1865/1865 [01:13<00:00, 25.46it/s]\n",
            "100%|██████████| 203/203 [00:02<00:00, 71.84it/s]\n"
          ]
        },
        {
          "output_type": "stream",
          "name": "stdout",
          "text": [
            "[208/300] Train Acc: 0.81679 Loss: 0.55300 | Val Acc: 0.76286 loss: 0.82567\n"
          ]
        },
        {
          "output_type": "stream",
          "name": "stderr",
          "text": [
            "100%|██████████| 1865/1865 [01:13<00:00, 25.36it/s]\n",
            "100%|██████████| 203/203 [00:03<00:00, 63.04it/s]\n"
          ]
        },
        {
          "output_type": "stream",
          "name": "stdout",
          "text": [
            "[209/300] Train Acc: 0.81759 Loss: 0.55162 | Val Acc: 0.76417 loss: 0.82627\n"
          ]
        },
        {
          "output_type": "stream",
          "name": "stderr",
          "text": [
            "100%|██████████| 1865/1865 [01:13<00:00, 25.49it/s]\n",
            "100%|██████████| 203/203 [00:02<00:00, 71.78it/s]\n"
          ]
        },
        {
          "output_type": "stream",
          "name": "stdout",
          "text": [
            "[210/300] Train Acc: 0.81745 Loss: 0.55241 | Val Acc: 0.76237 loss: 0.83170\n"
          ]
        },
        {
          "output_type": "stream",
          "name": "stderr",
          "text": [
            "100%|██████████| 1865/1865 [01:13<00:00, 25.42it/s]\n",
            "100%|██████████| 203/203 [00:02<00:00, 69.17it/s]\n"
          ]
        },
        {
          "output_type": "stream",
          "name": "stdout",
          "text": [
            "[211/300] Train Acc: 0.81759 Loss: 0.55138 | Val Acc: 0.76239 loss: 0.82830\n"
          ]
        },
        {
          "output_type": "stream",
          "name": "stderr",
          "text": [
            "100%|██████████| 1865/1865 [01:13<00:00, 25.39it/s]\n",
            "100%|██████████| 203/203 [00:02<00:00, 68.75it/s]\n"
          ]
        },
        {
          "output_type": "stream",
          "name": "stdout",
          "text": [
            "[212/300] Train Acc: 0.81752 Loss: 0.55081 | Val Acc: 0.76367 loss: 0.82226\n"
          ]
        },
        {
          "output_type": "stream",
          "name": "stderr",
          "text": [
            "100%|██████████| 1865/1865 [01:13<00:00, 25.36it/s]\n",
            "100%|██████████| 203/203 [00:03<00:00, 62.18it/s]\n"
          ]
        },
        {
          "output_type": "stream",
          "name": "stdout",
          "text": [
            "[213/300] Train Acc: 0.81764 Loss: 0.55095 | Val Acc: 0.76301 loss: 0.82828\n"
          ]
        },
        {
          "output_type": "stream",
          "name": "stderr",
          "text": [
            "100%|██████████| 1865/1865 [01:13<00:00, 25.31it/s]\n",
            "100%|██████████| 203/203 [00:02<00:00, 71.39it/s]\n"
          ]
        },
        {
          "output_type": "stream",
          "name": "stdout",
          "text": [
            "[214/300] Train Acc: 0.81752 Loss: 0.55080 | Val Acc: 0.76402 loss: 0.81545\n"
          ]
        },
        {
          "output_type": "stream",
          "name": "stderr",
          "text": [
            "100%|██████████| 1865/1865 [01:13<00:00, 25.48it/s]\n",
            "100%|██████████| 203/203 [00:02<00:00, 71.84it/s]\n"
          ]
        },
        {
          "output_type": "stream",
          "name": "stdout",
          "text": [
            "[215/300] Train Acc: 0.81805 Loss: 0.55064 | Val Acc: 0.76319 loss: 0.82302\n"
          ]
        },
        {
          "output_type": "stream",
          "name": "stderr",
          "text": [
            "100%|██████████| 1865/1865 [01:13<00:00, 25.47it/s]\n",
            "100%|██████████| 203/203 [00:03<00:00, 59.49it/s]\n"
          ]
        },
        {
          "output_type": "stream",
          "name": "stdout",
          "text": [
            "[216/300] Train Acc: 0.81765 Loss: 0.55026 | Val Acc: 0.76245 loss: 0.82311\n"
          ]
        },
        {
          "output_type": "stream",
          "name": "stderr",
          "text": [
            "100%|██████████| 1865/1865 [01:13<00:00, 25.46it/s]\n",
            "100%|██████████| 203/203 [00:02<00:00, 68.95it/s]\n"
          ]
        },
        {
          "output_type": "stream",
          "name": "stdout",
          "text": [
            "[217/300] Train Acc: 0.81762 Loss: 0.55061 | Val Acc: 0.76086 loss: 0.83621\n"
          ]
        },
        {
          "output_type": "stream",
          "name": "stderr",
          "text": [
            "100%|██████████| 1865/1865 [01:13<00:00, 25.47it/s]\n",
            "100%|██████████| 203/203 [00:02<00:00, 69.89it/s]\n"
          ]
        },
        {
          "output_type": "stream",
          "name": "stdout",
          "text": [
            "[218/300] Train Acc: 0.81751 Loss: 0.55142 | Val Acc: 0.76291 loss: 0.82107\n"
          ]
        },
        {
          "output_type": "stream",
          "name": "stderr",
          "text": [
            "100%|██████████| 1865/1865 [01:13<00:00, 25.35it/s]\n",
            "100%|██████████| 203/203 [00:02<00:00, 69.86it/s]\n"
          ]
        },
        {
          "output_type": "stream",
          "name": "stdout",
          "text": [
            "[219/300] Train Acc: 0.81769 Loss: 0.55021 | Val Acc: 0.76348 loss: 0.82472\n"
          ]
        },
        {
          "output_type": "stream",
          "name": "stderr",
          "text": [
            "100%|██████████| 1865/1865 [01:13<00:00, 25.45it/s]\n",
            "100%|██████████| 203/203 [00:02<00:00, 69.79it/s]\n"
          ]
        },
        {
          "output_type": "stream",
          "name": "stdout",
          "text": [
            "[220/300] Train Acc: 0.81794 Loss: 0.54902 | Val Acc: 0.76395 loss: 0.82968\n"
          ]
        },
        {
          "output_type": "stream",
          "name": "stderr",
          "text": [
            "100%|██████████| 1865/1865 [01:13<00:00, 25.32it/s]\n",
            "100%|██████████| 203/203 [00:03<00:00, 64.36it/s]\n"
          ]
        },
        {
          "output_type": "stream",
          "name": "stdout",
          "text": [
            "[221/300] Train Acc: 0.81812 Loss: 0.54812 | Val Acc: 0.76368 loss: 0.82712\n"
          ]
        },
        {
          "output_type": "stream",
          "name": "stderr",
          "text": [
            "100%|██████████| 1865/1865 [01:13<00:00, 25.46it/s]\n",
            "100%|██████████| 203/203 [00:02<00:00, 71.94it/s]\n"
          ]
        },
        {
          "output_type": "stream",
          "name": "stdout",
          "text": [
            "[222/300] Train Acc: 0.81811 Loss: 0.54951 | Val Acc: 0.76419 loss: 0.81640\n"
          ]
        },
        {
          "output_type": "stream",
          "name": "stderr",
          "text": [
            "100%|██████████| 1865/1865 [01:13<00:00, 25.52it/s]\n",
            "100%|██████████| 203/203 [00:02<00:00, 69.98it/s]\n"
          ]
        },
        {
          "output_type": "stream",
          "name": "stdout",
          "text": [
            "[223/300] Train Acc: 0.81822 Loss: 0.54852 | Val Acc: 0.76379 loss: 0.82252\n"
          ]
        },
        {
          "output_type": "stream",
          "name": "stderr",
          "text": [
            "100%|██████████| 1865/1865 [01:13<00:00, 25.44it/s]\n",
            "100%|██████████| 203/203 [00:03<00:00, 64.99it/s]\n"
          ]
        },
        {
          "output_type": "stream",
          "name": "stdout",
          "text": [
            "[224/300] Train Acc: 0.81836 Loss: 0.54816 | Val Acc: 0.76594 loss: 0.81975\n"
          ]
        },
        {
          "output_type": "stream",
          "name": "stderr",
          "text": [
            "100%|██████████| 1865/1865 [01:13<00:00, 25.46it/s]\n",
            "100%|██████████| 203/203 [00:03<00:00, 64.23it/s]\n"
          ]
        },
        {
          "output_type": "stream",
          "name": "stdout",
          "text": [
            "[225/300] Train Acc: 0.81830 Loss: 0.54846 | Val Acc: 0.76357 loss: 0.82896\n"
          ]
        },
        {
          "output_type": "stream",
          "name": "stderr",
          "text": [
            "100%|██████████| 1865/1865 [01:13<00:00, 25.38it/s]\n",
            "100%|██████████| 203/203 [00:02<00:00, 71.43it/s]\n"
          ]
        },
        {
          "output_type": "stream",
          "name": "stdout",
          "text": [
            "[226/300] Train Acc: 0.81854 Loss: 0.54731 | Val Acc: 0.76332 loss: 0.82054\n"
          ]
        },
        {
          "output_type": "stream",
          "name": "stderr",
          "text": [
            "100%|██████████| 1865/1865 [01:13<00:00, 25.50it/s]\n",
            "100%|██████████| 203/203 [00:02<00:00, 71.40it/s]\n"
          ]
        },
        {
          "output_type": "stream",
          "name": "stdout",
          "text": [
            "[227/300] Train Acc: 0.81894 Loss: 0.54693 | Val Acc: 0.76271 loss: 0.82518\n"
          ]
        },
        {
          "output_type": "stream",
          "name": "stderr",
          "text": [
            "100%|██████████| 1865/1865 [01:13<00:00, 25.43it/s]\n",
            "100%|██████████| 203/203 [00:03<00:00, 60.92it/s]\n"
          ]
        },
        {
          "output_type": "stream",
          "name": "stdout",
          "text": [
            "[228/300] Train Acc: 0.81811 Loss: 0.54762 | Val Acc: 0.76337 loss: 0.82051\n"
          ]
        },
        {
          "output_type": "stream",
          "name": "stderr",
          "text": [
            "100%|██████████| 1865/1865 [01:13<00:00, 25.22it/s]\n",
            "100%|██████████| 203/203 [00:02<00:00, 69.89it/s]\n"
          ]
        },
        {
          "output_type": "stream",
          "name": "stdout",
          "text": [
            "[229/300] Train Acc: 0.81834 Loss: 0.54785 | Val Acc: 0.76474 loss: 0.82848\n"
          ]
        },
        {
          "output_type": "stream",
          "name": "stderr",
          "text": [
            "100%|██████████| 1865/1865 [01:13<00:00, 25.39it/s]\n",
            "100%|██████████| 203/203 [00:02<00:00, 69.63it/s]\n"
          ]
        },
        {
          "output_type": "stream",
          "name": "stdout",
          "text": [
            "[230/300] Train Acc: 0.81853 Loss: 0.54660 | Val Acc: 0.76440 loss: 0.81958\n"
          ]
        },
        {
          "output_type": "stream",
          "name": "stderr",
          "text": [
            "100%|██████████| 1865/1865 [01:13<00:00, 25.35it/s]\n",
            "100%|██████████| 203/203 [00:02<00:00, 69.44it/s]\n"
          ]
        },
        {
          "output_type": "stream",
          "name": "stdout",
          "text": [
            "[231/300] Train Acc: 0.81823 Loss: 0.54727 | Val Acc: 0.76449 loss: 0.82939\n"
          ]
        },
        {
          "output_type": "stream",
          "name": "stderr",
          "text": [
            "100%|██████████| 1865/1865 [01:13<00:00, 25.35it/s]\n",
            "100%|██████████| 203/203 [00:03<00:00, 63.13it/s]\n"
          ]
        },
        {
          "output_type": "stream",
          "name": "stdout",
          "text": [
            "[232/300] Train Acc: 0.81900 Loss: 0.54645 | Val Acc: 0.76362 loss: 0.82437\n"
          ]
        },
        {
          "output_type": "stream",
          "name": "stderr",
          "text": [
            "100%|██████████| 1865/1865 [01:13<00:00, 25.30it/s]\n",
            "100%|██████████| 203/203 [00:02<00:00, 70.13it/s]\n"
          ]
        },
        {
          "output_type": "stream",
          "name": "stdout",
          "text": [
            "[233/300] Train Acc: 0.81862 Loss: 0.54674 | Val Acc: 0.76420 loss: 0.81938\n"
          ]
        },
        {
          "output_type": "stream",
          "name": "stderr",
          "text": [
            "100%|██████████| 1865/1865 [01:13<00:00, 25.32it/s]\n",
            "100%|██████████| 203/203 [00:02<00:00, 71.63it/s]\n"
          ]
        },
        {
          "output_type": "stream",
          "name": "stdout",
          "text": [
            "[234/300] Train Acc: 0.81871 Loss: 0.54655 | Val Acc: 0.76334 loss: 0.82799\n"
          ]
        },
        {
          "output_type": "stream",
          "name": "stderr",
          "text": [
            "100%|██████████| 1865/1865 [01:13<00:00, 25.40it/s]\n",
            "100%|██████████| 203/203 [00:03<00:00, 61.13it/s]\n"
          ]
        },
        {
          "output_type": "stream",
          "name": "stdout",
          "text": [
            "[235/300] Train Acc: 0.81917 Loss: 0.54525 | Val Acc: 0.76351 loss: 0.82392\n"
          ]
        },
        {
          "output_type": "stream",
          "name": "stderr",
          "text": [
            "100%|██████████| 1865/1865 [01:13<00:00, 25.28it/s]\n",
            "100%|██████████| 203/203 [00:02<00:00, 71.64it/s]\n"
          ]
        },
        {
          "output_type": "stream",
          "name": "stdout",
          "text": [
            "[236/300] Train Acc: 0.81886 Loss: 0.54655 | Val Acc: 0.76370 loss: 0.82855\n"
          ]
        },
        {
          "output_type": "stream",
          "name": "stderr",
          "text": [
            "100%|██████████| 1865/1865 [01:13<00:00, 25.35it/s]\n",
            "100%|██████████| 203/203 [00:02<00:00, 69.80it/s]\n"
          ]
        },
        {
          "output_type": "stream",
          "name": "stdout",
          "text": [
            "[237/300] Train Acc: 0.81925 Loss: 0.54528 | Val Acc: 0.76176 loss: 0.83449\n"
          ]
        },
        {
          "output_type": "stream",
          "name": "stderr",
          "text": [
            "100%|██████████| 1865/1865 [01:13<00:00, 25.30it/s]\n",
            "100%|██████████| 203/203 [00:03<00:00, 66.50it/s]\n"
          ]
        },
        {
          "output_type": "stream",
          "name": "stdout",
          "text": [
            "[238/300] Train Acc: 0.81876 Loss: 0.54564 | Val Acc: 0.76435 loss: 0.81889\n"
          ]
        },
        {
          "output_type": "stream",
          "name": "stderr",
          "text": [
            "100%|██████████| 1865/1865 [01:13<00:00, 25.30it/s]\n",
            "100%|██████████| 203/203 [00:03<00:00, 67.59it/s]\n"
          ]
        },
        {
          "output_type": "stream",
          "name": "stdout",
          "text": [
            "[239/300] Train Acc: 0.81914 Loss: 0.54558 | Val Acc: 0.76358 loss: 0.83255\n"
          ]
        },
        {
          "output_type": "stream",
          "name": "stderr",
          "text": [
            "100%|██████████| 1865/1865 [01:13<00:00, 25.42it/s]\n",
            "100%|██████████| 203/203 [00:02<00:00, 70.13it/s]\n"
          ]
        },
        {
          "output_type": "stream",
          "name": "stdout",
          "text": [
            "[240/300] Train Acc: 0.81905 Loss: 0.54463 | Val Acc: 0.76311 loss: 0.82146\n"
          ]
        },
        {
          "output_type": "stream",
          "name": "stderr",
          "text": [
            "100%|██████████| 1865/1865 [01:14<00:00, 25.19it/s]\n",
            "100%|██████████| 203/203 [00:02<00:00, 69.91it/s]\n"
          ]
        },
        {
          "output_type": "stream",
          "name": "stdout",
          "text": [
            "[241/300] Train Acc: 0.81946 Loss: 0.54465 | Val Acc: 0.76269 loss: 0.82588\n"
          ]
        },
        {
          "output_type": "stream",
          "name": "stderr",
          "text": [
            "100%|██████████| 1865/1865 [01:13<00:00, 25.39it/s]\n",
            "100%|██████████| 203/203 [00:03<00:00, 62.86it/s]\n"
          ]
        },
        {
          "output_type": "stream",
          "name": "stdout",
          "text": [
            "[242/300] Train Acc: 0.81931 Loss: 0.54458 | Val Acc: 0.76380 loss: 0.82526\n"
          ]
        },
        {
          "output_type": "stream",
          "name": "stderr",
          "text": [
            "100%|██████████| 1865/1865 [01:13<00:00, 25.42it/s]\n",
            "100%|██████████| 203/203 [00:03<00:00, 65.12it/s]\n"
          ]
        },
        {
          "output_type": "stream",
          "name": "stdout",
          "text": [
            "[243/300] Train Acc: 0.81911 Loss: 0.54500 | Val Acc: 0.76283 loss: 0.82524\n"
          ]
        },
        {
          "output_type": "stream",
          "name": "stderr",
          "text": [
            "100%|██████████| 1865/1865 [01:14<00:00, 25.10it/s]\n",
            "100%|██████████| 203/203 [00:02<00:00, 69.98it/s]\n"
          ]
        },
        {
          "output_type": "stream",
          "name": "stdout",
          "text": [
            "[244/300] Train Acc: 0.81937 Loss: 0.54398 | Val Acc: 0.76391 loss: 0.82226\n"
          ]
        },
        {
          "output_type": "stream",
          "name": "stderr",
          "text": [
            "100%|██████████| 1865/1865 [01:14<00:00, 25.13it/s]\n",
            "100%|██████████| 203/203 [00:02<00:00, 70.07it/s]\n"
          ]
        },
        {
          "output_type": "stream",
          "name": "stdout",
          "text": [
            "[245/300] Train Acc: 0.81893 Loss: 0.54443 | Val Acc: 0.76198 loss: 0.82890\n"
          ]
        },
        {
          "output_type": "stream",
          "name": "stderr",
          "text": [
            "100%|██████████| 1865/1865 [01:14<00:00, 25.01it/s]\n",
            "100%|██████████| 203/203 [00:03<00:00, 54.08it/s]\n"
          ]
        },
        {
          "output_type": "stream",
          "name": "stdout",
          "text": [
            "[246/300] Train Acc: 0.81928 Loss: 0.54389 | Val Acc: 0.76458 loss: 0.82421\n"
          ]
        },
        {
          "output_type": "stream",
          "name": "stderr",
          "text": [
            "100%|██████████| 1865/1865 [01:14<00:00, 25.02it/s]\n",
            "100%|██████████| 203/203 [00:02<00:00, 67.75it/s]\n"
          ]
        },
        {
          "output_type": "stream",
          "name": "stdout",
          "text": [
            "[247/300] Train Acc: 0.81937 Loss: 0.54286 | Val Acc: 0.76388 loss: 0.83530\n"
          ]
        },
        {
          "output_type": "stream",
          "name": "stderr",
          "text": [
            "100%|██████████| 1865/1865 [01:14<00:00, 25.09it/s]\n",
            "100%|██████████| 203/203 [00:02<00:00, 69.65it/s]\n"
          ]
        },
        {
          "output_type": "stream",
          "name": "stdout",
          "text": [
            "[248/300] Train Acc: 0.81909 Loss: 0.54450 | Val Acc: 0.76401 loss: 0.82637\n"
          ]
        },
        {
          "output_type": "stream",
          "name": "stderr",
          "text": [
            "100%|██████████| 1865/1865 [01:13<00:00, 25.31it/s]\n",
            "100%|██████████| 203/203 [00:03<00:00, 63.57it/s]\n"
          ]
        },
        {
          "output_type": "stream",
          "name": "stdout",
          "text": [
            "[249/300] Train Acc: 0.81968 Loss: 0.54229 | Val Acc: 0.76301 loss: 0.82795\n"
          ]
        },
        {
          "output_type": "stream",
          "name": "stderr",
          "text": [
            "100%|██████████| 1865/1865 [01:13<00:00, 25.29it/s]\n",
            "100%|██████████| 203/203 [00:02<00:00, 68.94it/s]\n"
          ]
        },
        {
          "output_type": "stream",
          "name": "stdout",
          "text": [
            "[250/300] Train Acc: 0.81997 Loss: 0.54219 | Val Acc: 0.76363 loss: 0.82820\n"
          ]
        },
        {
          "output_type": "stream",
          "name": "stderr",
          "text": [
            "100%|██████████| 1865/1865 [01:13<00:00, 25.32it/s]\n",
            "100%|██████████| 203/203 [00:02<00:00, 71.17it/s]\n"
          ]
        },
        {
          "output_type": "stream",
          "name": "stdout",
          "text": [
            "[251/300] Train Acc: 0.81928 Loss: 0.54367 | Val Acc: 0.76332 loss: 0.83372\n"
          ]
        },
        {
          "output_type": "stream",
          "name": "stderr",
          "text": [
            "100%|██████████| 1865/1865 [01:13<00:00, 25.21it/s]\n",
            "100%|██████████| 203/203 [00:02<00:00, 70.55it/s]\n"
          ]
        },
        {
          "output_type": "stream",
          "name": "stdout",
          "text": [
            "[252/300] Train Acc: 0.81998 Loss: 0.54204 | Val Acc: 0.76564 loss: 0.82591\n"
          ]
        },
        {
          "output_type": "stream",
          "name": "stderr",
          "text": [
            "100%|██████████| 1865/1865 [01:13<00:00, 25.24it/s]\n",
            "100%|██████████| 203/203 [00:03<00:00, 65.02it/s]\n"
          ]
        },
        {
          "output_type": "stream",
          "name": "stdout",
          "text": [
            "[253/300] Train Acc: 0.82028 Loss: 0.54157 | Val Acc: 0.76294 loss: 0.83110\n"
          ]
        },
        {
          "output_type": "stream",
          "name": "stderr",
          "text": [
            "100%|██████████| 1865/1865 [01:14<00:00, 25.12it/s]\n",
            "100%|██████████| 203/203 [00:03<00:00, 61.06it/s]\n"
          ]
        },
        {
          "output_type": "stream",
          "name": "stdout",
          "text": [
            "[254/300] Train Acc: 0.81995 Loss: 0.54203 | Val Acc: 0.76293 loss: 0.82244\n"
          ]
        },
        {
          "output_type": "stream",
          "name": "stderr",
          "text": [
            "100%|██████████| 1865/1865 [01:13<00:00, 25.35it/s]\n",
            "100%|██████████| 203/203 [00:02<00:00, 70.14it/s]\n"
          ]
        },
        {
          "output_type": "stream",
          "name": "stdout",
          "text": [
            "[255/300] Train Acc: 0.82000 Loss: 0.54204 | Val Acc: 0.76343 loss: 0.81829\n"
          ]
        },
        {
          "output_type": "stream",
          "name": "stderr",
          "text": [
            "100%|██████████| 1865/1865 [01:13<00:00, 25.26it/s]\n",
            "100%|██████████| 203/203 [00:02<00:00, 71.46it/s]\n"
          ]
        },
        {
          "output_type": "stream",
          "name": "stdout",
          "text": [
            "[256/300] Train Acc: 0.81953 Loss: 0.54251 | Val Acc: 0.76446 loss: 0.82143\n"
          ]
        },
        {
          "output_type": "stream",
          "name": "stderr",
          "text": [
            "100%|██████████| 1865/1865 [01:13<00:00, 25.23it/s]\n",
            "100%|██████████| 203/203 [00:02<00:00, 70.43it/s]\n"
          ]
        },
        {
          "output_type": "stream",
          "name": "stdout",
          "text": [
            "[257/300] Train Acc: 0.81946 Loss: 0.54263 | Val Acc: 0.76364 loss: 0.82437\n"
          ]
        },
        {
          "output_type": "stream",
          "name": "stderr",
          "text": [
            "100%|██████████| 1865/1865 [01:13<00:00, 25.36it/s]\n",
            "100%|██████████| 203/203 [00:03<00:00, 61.10it/s]\n"
          ]
        },
        {
          "output_type": "stream",
          "name": "stdout",
          "text": [
            "[258/300] Train Acc: 0.81994 Loss: 0.54136 | Val Acc: 0.76376 loss: 0.82597\n"
          ]
        },
        {
          "output_type": "stream",
          "name": "stderr",
          "text": [
            "100%|██████████| 1865/1865 [01:13<00:00, 25.29it/s]\n",
            "100%|██████████| 203/203 [00:02<00:00, 67.97it/s]\n"
          ]
        },
        {
          "output_type": "stream",
          "name": "stdout",
          "text": [
            "[259/300] Train Acc: 0.82003 Loss: 0.54198 | Val Acc: 0.76140 loss: 0.83850\n"
          ]
        },
        {
          "output_type": "stream",
          "name": "stderr",
          "text": [
            "100%|██████████| 1865/1865 [01:13<00:00, 25.41it/s]\n",
            "100%|██████████| 203/203 [00:02<00:00, 70.17it/s]\n"
          ]
        },
        {
          "output_type": "stream",
          "name": "stdout",
          "text": [
            "[260/300] Train Acc: 0.81996 Loss: 0.54155 | Val Acc: 0.76529 loss: 0.81890\n"
          ]
        },
        {
          "output_type": "stream",
          "name": "stderr",
          "text": [
            "100%|██████████| 1865/1865 [01:13<00:00, 25.42it/s]\n",
            "100%|██████████| 203/203 [00:02<00:00, 69.79it/s]\n"
          ]
        },
        {
          "output_type": "stream",
          "name": "stdout",
          "text": [
            "[261/300] Train Acc: 0.82043 Loss: 0.54065 | Val Acc: 0.76430 loss: 0.83299\n"
          ]
        },
        {
          "output_type": "stream",
          "name": "stderr",
          "text": [
            "100%|██████████| 1865/1865 [01:13<00:00, 25.24it/s]\n",
            "100%|██████████| 203/203 [00:02<00:00, 69.04it/s]\n"
          ]
        },
        {
          "output_type": "stream",
          "name": "stdout",
          "text": [
            "[262/300] Train Acc: 0.81997 Loss: 0.54069 | Val Acc: 0.76425 loss: 0.81672\n"
          ]
        },
        {
          "output_type": "stream",
          "name": "stderr",
          "text": [
            "100%|██████████| 1865/1865 [01:13<00:00, 25.24it/s]\n",
            "100%|██████████| 203/203 [00:03<00:00, 64.83it/s]\n"
          ]
        },
        {
          "output_type": "stream",
          "name": "stdout",
          "text": [
            "[263/300] Train Acc: 0.82022 Loss: 0.54067 | Val Acc: 0.76385 loss: 0.82791\n"
          ]
        },
        {
          "output_type": "stream",
          "name": "stderr",
          "text": [
            "100%|██████████| 1865/1865 [01:13<00:00, 25.21it/s]\n",
            "100%|██████████| 203/203 [00:02<00:00, 70.61it/s]\n"
          ]
        },
        {
          "output_type": "stream",
          "name": "stdout",
          "text": [
            "[264/300] Train Acc: 0.82039 Loss: 0.54023 | Val Acc: 0.76259 loss: 0.82458\n"
          ]
        },
        {
          "output_type": "stream",
          "name": "stderr",
          "text": [
            "100%|██████████| 1865/1865 [01:13<00:00, 25.32it/s]\n",
            "100%|██████████| 203/203 [00:02<00:00, 68.94it/s]\n"
          ]
        },
        {
          "output_type": "stream",
          "name": "stdout",
          "text": [
            "[265/300] Train Acc: 0.82033 Loss: 0.53957 | Val Acc: 0.76541 loss: 0.81795\n"
          ]
        },
        {
          "output_type": "stream",
          "name": "stderr",
          "text": [
            "100%|██████████| 1865/1865 [01:13<00:00, 25.33it/s]\n",
            "100%|██████████| 203/203 [00:03<00:00, 61.01it/s]\n"
          ]
        },
        {
          "output_type": "stream",
          "name": "stdout",
          "text": [
            "[266/300] Train Acc: 0.82043 Loss: 0.53966 | Val Acc: 0.76407 loss: 0.82993\n"
          ]
        },
        {
          "output_type": "stream",
          "name": "stderr",
          "text": [
            "100%|██████████| 1865/1865 [01:13<00:00, 25.22it/s]\n",
            "100%|██████████| 203/203 [00:03<00:00, 61.41it/s]\n"
          ]
        },
        {
          "output_type": "stream",
          "name": "stdout",
          "text": [
            "[267/300] Train Acc: 0.82036 Loss: 0.54044 | Val Acc: 0.76381 loss: 0.83258\n"
          ]
        },
        {
          "output_type": "stream",
          "name": "stderr",
          "text": [
            "100%|██████████| 1865/1865 [01:13<00:00, 25.22it/s]\n",
            "100%|██████████| 203/203 [00:02<00:00, 70.78it/s]\n"
          ]
        },
        {
          "output_type": "stream",
          "name": "stdout",
          "text": [
            "[268/300] Train Acc: 0.82033 Loss: 0.53995 | Val Acc: 0.76398 loss: 0.82969\n"
          ]
        },
        {
          "output_type": "stream",
          "name": "stderr",
          "text": [
            "100%|██████████| 1865/1865 [01:13<00:00, 25.26it/s]\n",
            "100%|██████████| 203/203 [00:02<00:00, 70.28it/s]\n"
          ]
        },
        {
          "output_type": "stream",
          "name": "stdout",
          "text": [
            "[269/300] Train Acc: 0.82016 Loss: 0.54060 | Val Acc: 0.76414 loss: 0.83373\n"
          ]
        },
        {
          "output_type": "stream",
          "name": "stderr",
          "text": [
            "100%|██████████| 1865/1865 [01:14<00:00, 25.15it/s]\n",
            "100%|██████████| 203/203 [00:03<00:00, 63.27it/s]\n"
          ]
        },
        {
          "output_type": "stream",
          "name": "stdout",
          "text": [
            "[270/300] Train Acc: 0.82039 Loss: 0.53909 | Val Acc: 0.76546 loss: 0.82206\n"
          ]
        },
        {
          "output_type": "stream",
          "name": "stderr",
          "text": [
            "100%|██████████| 1865/1865 [01:14<00:00, 25.06it/s]\n",
            "100%|██████████| 203/203 [00:02<00:00, 69.25it/s]\n"
          ]
        },
        {
          "output_type": "stream",
          "name": "stdout",
          "text": [
            "[271/300] Train Acc: 0.82069 Loss: 0.53918 | Val Acc: 0.76314 loss: 0.82918\n"
          ]
        },
        {
          "output_type": "stream",
          "name": "stderr",
          "text": [
            "100%|██████████| 1865/1865 [01:14<00:00, 25.19it/s]\n",
            "100%|██████████| 203/203 [00:02<00:00, 68.49it/s]\n"
          ]
        },
        {
          "output_type": "stream",
          "name": "stdout",
          "text": [
            "[272/300] Train Acc: 0.82058 Loss: 0.53929 | Val Acc: 0.76355 loss: 0.82518\n"
          ]
        },
        {
          "output_type": "stream",
          "name": "stderr",
          "text": [
            "100%|██████████| 1865/1865 [01:13<00:00, 25.29it/s]\n",
            "100%|██████████| 203/203 [00:02<00:00, 68.44it/s]\n"
          ]
        },
        {
          "output_type": "stream",
          "name": "stdout",
          "text": [
            "[273/300] Train Acc: 0.82041 Loss: 0.53944 | Val Acc: 0.76242 loss: 0.82719\n"
          ]
        },
        {
          "output_type": "stream",
          "name": "stderr",
          "text": [
            "100%|██████████| 1865/1865 [01:13<00:00, 25.28it/s]\n",
            "100%|██████████| 203/203 [00:03<00:00, 61.58it/s]\n"
          ]
        },
        {
          "output_type": "stream",
          "name": "stdout",
          "text": [
            "[274/300] Train Acc: 0.82077 Loss: 0.53917 | Val Acc: 0.76472 loss: 0.81870\n"
          ]
        },
        {
          "output_type": "stream",
          "name": "stderr",
          "text": [
            "100%|██████████| 1865/1865 [01:13<00:00, 25.25it/s]\n",
            "100%|██████████| 203/203 [00:02<00:00, 71.36it/s]\n"
          ]
        },
        {
          "output_type": "stream",
          "name": "stdout",
          "text": [
            "[275/300] Train Acc: 0.82062 Loss: 0.53878 | Val Acc: 0.76541 loss: 0.82880\n"
          ]
        },
        {
          "output_type": "stream",
          "name": "stderr",
          "text": [
            "100%|██████████| 1865/1865 [01:13<00:00, 25.34it/s]\n",
            "100%|██████████| 203/203 [00:02<00:00, 71.35it/s]\n"
          ]
        },
        {
          "output_type": "stream",
          "name": "stdout",
          "text": [
            "[276/300] Train Acc: 0.82098 Loss: 0.53829 | Val Acc: 0.76362 loss: 0.82670\n"
          ]
        },
        {
          "output_type": "stream",
          "name": "stderr",
          "text": [
            "100%|██████████| 1865/1865 [01:13<00:00, 25.26it/s]\n",
            "100%|██████████| 203/203 [00:02<00:00, 69.10it/s]\n"
          ]
        },
        {
          "output_type": "stream",
          "name": "stdout",
          "text": [
            "[277/300] Train Acc: 0.82059 Loss: 0.53860 | Val Acc: 0.76329 loss: 0.83716\n"
          ]
        },
        {
          "output_type": "stream",
          "name": "stderr",
          "text": [
            "100%|██████████| 1865/1865 [01:13<00:00, 25.30it/s]\n",
            "100%|██████████| 203/203 [00:03<00:00, 60.42it/s]\n"
          ]
        },
        {
          "output_type": "stream",
          "name": "stdout",
          "text": [
            "[278/300] Train Acc: 0.82089 Loss: 0.53847 | Val Acc: 0.76465 loss: 0.82615\n"
          ]
        },
        {
          "output_type": "stream",
          "name": "stderr",
          "text": [
            "100%|██████████| 1865/1865 [01:13<00:00, 25.30it/s]\n",
            "100%|██████████| 203/203 [00:02<00:00, 68.81it/s]\n"
          ]
        },
        {
          "output_type": "stream",
          "name": "stdout",
          "text": [
            "[279/300] Train Acc: 0.82066 Loss: 0.53824 | Val Acc: 0.76557 loss: 0.82272\n"
          ]
        },
        {
          "output_type": "stream",
          "name": "stderr",
          "text": [
            "100%|██████████| 1865/1865 [01:13<00:00, 25.24it/s]\n",
            "100%|██████████| 203/203 [00:02<00:00, 70.93it/s]\n"
          ]
        },
        {
          "output_type": "stream",
          "name": "stdout",
          "text": [
            "[280/300] Train Acc: 0.82107 Loss: 0.53778 | Val Acc: 0.76492 loss: 0.83196\n"
          ]
        },
        {
          "output_type": "stream",
          "name": "stderr",
          "text": [
            "100%|██████████| 1865/1865 [01:13<00:00, 25.26it/s]\n",
            "100%|██████████| 203/203 [00:02<00:00, 69.52it/s]\n"
          ]
        },
        {
          "output_type": "stream",
          "name": "stdout",
          "text": [
            "[281/300] Train Acc: 0.82100 Loss: 0.53830 | Val Acc: 0.76360 loss: 0.83079\n"
          ]
        },
        {
          "output_type": "stream",
          "name": "stderr",
          "text": [
            "100%|██████████| 1865/1865 [01:13<00:00, 25.24it/s]\n",
            "100%|██████████| 203/203 [00:03<00:00, 65.82it/s]\n"
          ]
        },
        {
          "output_type": "stream",
          "name": "stdout",
          "text": [
            "[282/300] Train Acc: 0.82097 Loss: 0.53688 | Val Acc: 0.76369 loss: 0.83442\n"
          ]
        },
        {
          "output_type": "stream",
          "name": "stderr",
          "text": [
            "100%|██████████| 1865/1865 [01:14<00:00, 25.19it/s]\n",
            "100%|██████████| 203/203 [00:02<00:00, 69.50it/s]\n"
          ]
        },
        {
          "output_type": "stream",
          "name": "stdout",
          "text": [
            "[283/300] Train Acc: 0.82124 Loss: 0.53703 | Val Acc: 0.76422 loss: 0.82900\n"
          ]
        },
        {
          "output_type": "stream",
          "name": "stderr",
          "text": [
            "100%|██████████| 1865/1865 [01:13<00:00, 25.32it/s]\n",
            "100%|██████████| 203/203 [00:02<00:00, 69.20it/s]\n"
          ]
        },
        {
          "output_type": "stream",
          "name": "stdout",
          "text": [
            "[284/300] Train Acc: 0.82121 Loss: 0.53727 | Val Acc: 0.76411 loss: 0.82595\n"
          ]
        },
        {
          "output_type": "stream",
          "name": "stderr",
          "text": [
            "100%|██████████| 1865/1865 [01:13<00:00, 25.28it/s]\n",
            "100%|██████████| 203/203 [00:03<00:00, 60.25it/s]\n"
          ]
        },
        {
          "output_type": "stream",
          "name": "stdout",
          "text": [
            "[285/300] Train Acc: 0.82088 Loss: 0.53830 | Val Acc: 0.76354 loss: 0.83156\n"
          ]
        },
        {
          "output_type": "stream",
          "name": "stderr",
          "text": [
            "100%|██████████| 1865/1865 [01:13<00:00, 25.31it/s]\n",
            "100%|██████████| 203/203 [00:02<00:00, 70.69it/s]\n"
          ]
        },
        {
          "output_type": "stream",
          "name": "stdout",
          "text": [
            "[286/300] Train Acc: 0.82136 Loss: 0.53719 | Val Acc: 0.76402 loss: 0.82713\n"
          ]
        },
        {
          "output_type": "stream",
          "name": "stderr",
          "text": [
            "100%|██████████| 1865/1865 [01:13<00:00, 25.30it/s]\n",
            "100%|██████████| 203/203 [00:02<00:00, 71.50it/s]\n"
          ]
        },
        {
          "output_type": "stream",
          "name": "stdout",
          "text": [
            "[287/300] Train Acc: 0.82105 Loss: 0.53798 | Val Acc: 0.76483 loss: 0.83007\n"
          ]
        },
        {
          "output_type": "stream",
          "name": "stderr",
          "text": [
            "100%|██████████| 1865/1865 [01:13<00:00, 25.25it/s]\n",
            "100%|██████████| 203/203 [00:02<00:00, 70.44it/s]\n"
          ]
        },
        {
          "output_type": "stream",
          "name": "stdout",
          "text": [
            "[288/300] Train Acc: 0.82098 Loss: 0.53761 | Val Acc: 0.76425 loss: 0.82689\n"
          ]
        },
        {
          "output_type": "stream",
          "name": "stderr",
          "text": [
            "100%|██████████| 1865/1865 [01:13<00:00, 25.21it/s]\n",
            "100%|██████████| 203/203 [00:03<00:00, 58.57it/s]\n"
          ]
        },
        {
          "output_type": "stream",
          "name": "stdout",
          "text": [
            "[289/300] Train Acc: 0.82115 Loss: 0.53675 | Val Acc: 0.76409 loss: 0.82808\n"
          ]
        },
        {
          "output_type": "stream",
          "name": "stderr",
          "text": [
            "100%|██████████| 1865/1865 [01:13<00:00, 25.21it/s]\n",
            "100%|██████████| 203/203 [00:02<00:00, 69.21it/s]\n"
          ]
        },
        {
          "output_type": "stream",
          "name": "stdout",
          "text": [
            "[290/300] Train Acc: 0.82124 Loss: 0.53645 | Val Acc: 0.76515 loss: 0.83024\n"
          ]
        },
        {
          "output_type": "stream",
          "name": "stderr",
          "text": [
            "100%|██████████| 1865/1865 [01:14<00:00, 25.15it/s]\n",
            "100%|██████████| 203/203 [00:02<00:00, 69.61it/s]\n"
          ]
        },
        {
          "output_type": "stream",
          "name": "stdout",
          "text": [
            "[291/300] Train Acc: 0.82133 Loss: 0.53580 | Val Acc: 0.76295 loss: 0.83264\n"
          ]
        },
        {
          "output_type": "stream",
          "name": "stderr",
          "text": [
            "100%|██████████| 1865/1865 [01:13<00:00, 25.31it/s]\n",
            "100%|██████████| 203/203 [00:03<00:00, 63.31it/s]\n"
          ]
        },
        {
          "output_type": "stream",
          "name": "stdout",
          "text": [
            "[292/300] Train Acc: 0.82129 Loss: 0.53623 | Val Acc: 0.76433 loss: 0.82670\n"
          ]
        },
        {
          "output_type": "stream",
          "name": "stderr",
          "text": [
            "100%|██████████| 1865/1865 [01:13<00:00, 25.23it/s]\n",
            "100%|██████████| 203/203 [00:02<00:00, 71.20it/s]\n"
          ]
        },
        {
          "output_type": "stream",
          "name": "stdout",
          "text": [
            "[293/300] Train Acc: 0.82171 Loss: 0.53558 | Val Acc: 0.76342 loss: 0.83459\n"
          ]
        },
        {
          "output_type": "stream",
          "name": "stderr",
          "text": [
            "100%|██████████| 1865/1865 [01:13<00:00, 25.28it/s]\n",
            "100%|██████████| 203/203 [00:02<00:00, 71.36it/s]\n"
          ]
        },
        {
          "output_type": "stream",
          "name": "stdout",
          "text": [
            "[294/300] Train Acc: 0.82111 Loss: 0.53540 | Val Acc: 0.76425 loss: 0.82997\n"
          ]
        },
        {
          "output_type": "stream",
          "name": "stderr",
          "text": [
            "100%|██████████| 1865/1865 [01:13<00:00, 25.23it/s]\n",
            "100%|██████████| 203/203 [00:02<00:00, 69.28it/s]\n"
          ]
        },
        {
          "output_type": "stream",
          "name": "stdout",
          "text": [
            "[295/300] Train Acc: 0.82180 Loss: 0.53473 | Val Acc: 0.76404 loss: 0.82279\n"
          ]
        },
        {
          "output_type": "stream",
          "name": "stderr",
          "text": [
            "100%|██████████| 1865/1865 [01:14<00:00, 25.09it/s]\n",
            "100%|██████████| 203/203 [00:03<00:00, 60.34it/s]\n"
          ]
        },
        {
          "output_type": "stream",
          "name": "stdout",
          "text": [
            "[296/300] Train Acc: 0.82161 Loss: 0.53483 | Val Acc: 0.76422 loss: 0.82717\n"
          ]
        },
        {
          "output_type": "stream",
          "name": "stderr",
          "text": [
            "100%|██████████| 1865/1865 [01:13<00:00, 25.27it/s]\n",
            "100%|██████████| 203/203 [00:02<00:00, 69.08it/s]\n"
          ]
        },
        {
          "output_type": "stream",
          "name": "stdout",
          "text": [
            "[297/300] Train Acc: 0.82133 Loss: 0.53517 | Val Acc: 0.76306 loss: 0.83443\n"
          ]
        },
        {
          "output_type": "stream",
          "name": "stderr",
          "text": [
            "100%|██████████| 1865/1865 [01:14<00:00, 25.15it/s]\n",
            "100%|██████████| 203/203 [00:02<00:00, 70.78it/s]\n"
          ]
        },
        {
          "output_type": "stream",
          "name": "stdout",
          "text": [
            "[298/300] Train Acc: 0.82158 Loss: 0.53531 | Val Acc: 0.76320 loss: 0.83308\n"
          ]
        },
        {
          "output_type": "stream",
          "name": "stderr",
          "text": [
            "100%|██████████| 1865/1865 [01:14<00:00, 25.04it/s]\n",
            "100%|██████████| 203/203 [00:03<00:00, 62.03it/s]\n"
          ]
        },
        {
          "output_type": "stream",
          "name": "stdout",
          "text": [
            "[299/300] Train Acc: 0.82159 Loss: 0.53522 | Val Acc: 0.76301 loss: 0.83475\n"
          ]
        },
        {
          "output_type": "stream",
          "name": "stderr",
          "text": [
            "100%|██████████| 1865/1865 [01:14<00:00, 25.00it/s]\n",
            "100%|██████████| 203/203 [00:02<00:00, 69.09it/s]"
          ]
        },
        {
          "output_type": "stream",
          "name": "stdout",
          "text": [
            "[300/300] Train Acc: 0.82164 Loss: 0.53491 | Val Acc: 0.76539 loss: 0.83053\n"
          ]
        },
        {
          "output_type": "stream",
          "name": "stderr",
          "text": [
            "\n"
          ]
        }
      ],
      "source": [
        "# create model, define a loss function, and optimizer\n",
        "model = Classifier(input_dim=input_dim, hidden_layers=hidden_layers, hidden_dim=hidden_dim).to(device)\n",
        "criterion = nn.CrossEntropyLoss() \n",
        "\n",
        "# optimizer = torch.optim.Adam(model.parameters(), lr=learning_rate)\n",
        "optimizer = torch.optim.AdamW(model.parameters(), lr=0.002, betas=(0.9, 0.999), eps=1e-08, weight_decay=0.01)\n",
        "scheduler = torch.optim.lr_scheduler.CosineAnnealingLR(optimizer, T_max=5, eta_min=0, last_epoch=- 1, verbose=False)\n",
        "#餘弦退火學習率\n",
        "\n",
        "best_acc = 0.0\n",
        "for epoch in range(num_epoch):\n",
        "    train_acc = 0.0\n",
        "    train_loss = 0.0\n",
        "    val_acc = 0.0\n",
        "    val_loss = 0.0\n",
        "    \n",
        "    # training\n",
        "    model.train() # set the model to training mode\n",
        "    for i, batch in enumerate(tqdm(train_loader)):\n",
        "        features, labels = batch\n",
        "        features = features.to(device)\n",
        "        labels = labels.to(device)\n",
        "        \n",
        "        optimizer.zero_grad() \n",
        "        outputs = model(features) \n",
        "        \n",
        "        loss = criterion(outputs, labels)\n",
        "        loss.backward() \n",
        "\n",
        "        optimizer.step() \n",
        "        scheduler.step()\n",
        "        \n",
        "        _, train_pred = torch.max(outputs, 1) # get the index of the class with the highest probability\n",
        "        train_acc += (train_pred.detach() == labels.detach()).sum().item()\n",
        "        train_loss += loss.item()\n",
        "    \n",
        "    # validation\n",
        "    model.eval() # set the model to evaluation mode\n",
        "    with torch.no_grad():\n",
        "        for i, batch in enumerate(tqdm(val_loader)):\n",
        "            features, labels = batch\n",
        "            features = features.to(device)\n",
        "            labels = labels.to(device)\n",
        "            outputs = model(features)\n",
        "            \n",
        "            loss = criterion(outputs, labels) \n",
        "            \n",
        "            _, val_pred = torch.max(outputs, 1) \n",
        "            val_acc += (val_pred.cpu() == labels.cpu()).sum().item() # get the index of the class with the highest probability\n",
        "            val_loss += loss.item()\n",
        "\n",
        "    print(f'[{epoch+1:03d}/{num_epoch:03d}] Train Acc: {train_acc/len(train_set):3.5f} Loss: {train_loss/len(train_loader):3.5f} | Val Acc: {val_acc/len(val_set):3.5f} loss: {val_loss/len(val_loader):3.5f}')\n",
        "\n",
        "    # if the model improves, save a checkpoint at this epoch\n",
        "    if val_acc > best_acc:\n",
        "        best_acc = val_acc\n",
        "        torch.save(model.state_dict(), model_path)\n",
        "        print(f'saving model with acc {best_acc/len(val_set):.5f}')\n"
      ]
    },
    {
      "cell_type": "code",
      "execution_count": null,
      "metadata": {
        "id": "ab33MxosWLmG",
        "outputId": "b9c3897c-be43-40b1-88bf-bb584ae9beae",
        "colab": {
          "base_uri": "https://localhost:8080/"
        }
      },
      "outputs": [
        {
          "output_type": "execute_result",
          "data": {
            "text/plain": [
              "0"
            ]
          },
          "metadata": {},
          "execution_count": 9
        }
      ],
      "source": [
        "del train_set, val_set\n",
        "del train_loader, val_loader\n",
        "gc.collect()"
      ]
    },
    {
      "cell_type": "markdown",
      "metadata": {
        "id": "1Hi7jTn3PX-m"
      },
      "source": [
        "# Testing\n",
        "Create a testing dataset, and load model from the saved checkpoint."
      ]
    },
    {
      "cell_type": "code",
      "execution_count": null,
      "metadata": {
        "id": "VOG1Ou0PGrhc",
        "outputId": "7c445f53-19c1-4db0-ba63-7715a9bc96ca",
        "colab": {
          "base_uri": "https://localhost:8080/"
        }
      },
      "outputs": [
        {
          "output_type": "stream",
          "name": "stdout",
          "text": [
            "[Dataset] - # phone classes: 41, number of utterances for test: 857\n"
          ]
        },
        {
          "output_type": "stream",
          "name": "stderr",
          "text": [
            "857it [00:03, 222.73it/s]"
          ]
        },
        {
          "output_type": "stream",
          "name": "stdout",
          "text": [
            "[INFO] test set\n",
            "torch.Size([527364, 819])\n"
          ]
        },
        {
          "output_type": "stream",
          "name": "stderr",
          "text": [
            "\n"
          ]
        }
      ],
      "source": [
        "# load data\n",
        "test_X = preprocess_data(split='test', feat_dir='./libriphone/feat', phone_path='./libriphone', concat_nframes=concat_nframes)\n",
        "test_set = LibriDataset(test_X, None)\n",
        "test_loader = DataLoader(test_set, batch_size=batch_size, shuffle=False)"
      ]
    },
    {
      "cell_type": "code",
      "execution_count": null,
      "metadata": {
        "id": "ay0Fu8Ovkdad",
        "outputId": "e8a44924-8b5c-4586-9dfb-7d5aaedb98a7",
        "colab": {
          "base_uri": "https://localhost:8080/"
        }
      },
      "outputs": [
        {
          "output_type": "execute_result",
          "data": {
            "text/plain": [
              "<All keys matched successfully>"
            ]
          },
          "metadata": {},
          "execution_count": 11
        }
      ],
      "source": [
        "# load model\n",
        "model = Classifier(input_dim=input_dim, hidden_layers=hidden_layers, hidden_dim=hidden_dim).to(device)\n",
        "model.load_state_dict(torch.load(model_path))"
      ]
    },
    {
      "cell_type": "markdown",
      "metadata": {
        "id": "zp-DV1p4r7Nz"
      },
      "source": [
        "Make prediction."
      ]
    },
    {
      "cell_type": "code",
      "execution_count": null,
      "metadata": {
        "id": "84HU5GGjPqR0",
        "outputId": "4303e244-5d10-406f-9890-a0653b77663a",
        "colab": {
          "base_uri": "https://localhost:8080/"
        }
      },
      "outputs": [
        {
          "output_type": "stream",
          "name": "stderr",
          "text": [
            "100%|██████████| 516/516 [00:06<00:00, 83.71it/s]\n"
          ]
        }
      ],
      "source": [
        "pred = np.array([], dtype=np.int32)\n",
        "\n",
        "model.eval()\n",
        "with torch.no_grad():\n",
        "    for i, batch in enumerate(tqdm(test_loader)):\n",
        "        features = batch\n",
        "        features = features.to(device)\n",
        "\n",
        "        outputs = model(features)\n",
        "\n",
        "        _, test_pred = torch.max(outputs, 1) # get the index of the class with the highest probability\n",
        "        pred = np.concatenate((pred, test_pred.cpu().numpy()), axis=0)\n"
      ]
    },
    {
      "cell_type": "markdown",
      "metadata": {
        "id": "wyZqy40Prz0v"
      },
      "source": [
        "Write prediction to a CSV file.\n",
        "\n",
        "After finish running this block, download the file `prediction.csv` from the files section on the left-hand side and submit it to Kaggle."
      ]
    },
    {
      "cell_type": "code",
      "execution_count": null,
      "metadata": {
        "id": "GuljYSPHcZir"
      },
      "outputs": [],
      "source": [
        "with open('prediction.csv', 'w') as f:\n",
        "    f.write('Id,Class\\n')\n",
        "    for i, y in enumerate(pred):\n",
        "        f.write('{},{}\\n'.format(i, y))"
      ]
    }
  ],
  "metadata": {
    "accelerator": "GPU",
    "colab": {
      "provenance": []
    },
    "kernelspec": {
      "display_name": "Python 3",
      "name": "python3"
    }
  },
  "nbformat": 4,
  "nbformat_minor": 0
}